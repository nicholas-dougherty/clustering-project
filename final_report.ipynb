{
 "cells": [
  {
   "cell_type": "code",
   "execution_count": 1,
   "id": "f27de740-4dfc-4e6e-92d0-9d45b22ba704",
   "metadata": {},
   "outputs": [],
   "source": [
    "# To access the MySQL server, for data acquisition\n",
    "import os \n",
    "from env import get_db_url\n",
    "\n",
    "# Bare necessities \n",
    "import pandas as pd \n",
    "import numpy as np\n",
    "from collections import Counter\n",
    "import matplotlib.pyplot as plt\n",
    "import seaborn as sns\n",
    "\n",
    "# feature selection imports\n",
    "from sklearn.feature_selection import SelectKBest, f_regression\n",
    "from sklearn.feature_selection import RFE\n",
    "from sklearn.model_selection import train_test_split\n",
    "\n",
    "# import scaling methods\n",
    "from sklearn.preprocessing import MinMaxScaler, RobustScaler, StandardScaler, QuantileTransformer\n",
    "import scipy\n",
    "from scipy import stats\n",
    "\n",
    "# Clustering necessities\n",
    "from sklearn.cluster import KMeans\n",
    "from sklearn.decomposition import PCA\n",
    "from sklearn import preprocessing, cluster\n",
    "\n",
    "\n",
    "# Modeling Methodology\n",
    "from sklearn.metrics import mean_squared_error\n",
    "from sklearn.linear_model import LinearRegression, LassoLars, TweedieRegressor\n",
    "from sklearn.preprocessing import PolynomialFeatures\n",
    "from sklearn.metrics import explained_variance_score\n",
    "\n",
    "# Personal Effects \n",
    "import wrangle as w\n",
    "import explorer as eda\n",
    "import mitosheet\n",
    "import folium\n",
    "from folium.plugins import FastMarkerCluster\n",
    "from describe import nulls\n",
    "import branca.colormap as cm"
   ]
  },
  {
   "cell_type": "code",
   "execution_count": null,
   "id": "eeb981ce-370e-499a-a5b5-c6a9a8a187b1",
   "metadata": {},
   "outputs": [],
   "source": []
  },
  {
   "cell_type": "markdown",
   "id": "a1f187d4-4a77-4568-ab44-80562fe4a9a6",
   "metadata": {
    "tags": []
   },
   "source": [
    "# Zestimating SoCal Single Family Property Values\n",
    "                                    Nicholas Dougherty\n",
    "                                    March 30th, 2022\n",
    "## Executive Summary\n",
    "\n",
    "The goal has been to extrapolate a home's assessed value based on publicly available tax records contained in Zillow's data dated in 2017, preprocessing and parsing among single family residences in order to create supervised Machine Learning models. \n",
    "\n",
    "### Project Overview\n",
    "\n",
    "- The DS pipeline's first-half--__acquisition, preparation, exploration__--were automated via Python scripts.\n",
    "- Data cleaned by replacing null values, dropping duplicates, one-hot encoding categoricals and removing outliers.\n",
    "- Data split into train, validate, and test before exploration to maintain informational integrity.\n",
    "- Statistical analyses tested the following hypotheses:\n",
    "    - Property Age has more considerable impact on tax value than anticipated.\n",
    "    - Older homes have fewer rooms altogether and are inexpensive, half-bathrooms are found primarily in properties past the 60s. \n",
    "    - This would mean that Los Angeles wholistically, although overrepresented in this set, has outdated homes.   \n",
    "- Recursive feature engineering faciliated the inclusions of features for the models \n",
    "- Since our target variable, tax value, is continuous, the following algorithms were implemented:\n",
    "    - OLS Regression\n",
    "    - Lasso + Lars\n",
    "    - Tweedie Regressor GLM\n",
    "    - Poynomial Regression. \n",
    "- The best model was fit upon the test set. Perhaps overfit, as it performs almost identically as well as the test set did. \n",
    "\n",
    "### Key Takeaways\n",
    "\n",
    "- Age, bathrooms, and area were found to be the best drivers of tax value\n",
    "- Outliers in room counts and area remained after handling outliers and scaling. Although in far lesser quantities. \n",
    "- The baseline mean's RMSE of $247,383.70\n",
    "    - All models beat this RMSE \n",
    "- The Root Mean Squared Error (RMSE) and R squared were utilized as metrics to evaluate a model's performance\n",
    "- In truth, I don't know whether or not I am looking at this correctly. I have accidentally tested twice, so it's either Tweedie or Polynomial that is the better model, but it's difficult for me to understand which. \n",
    "    \n",
    "    \n",
    "***\n",
    "***"
   ]
  },
  {
   "cell_type": "markdown",
   "id": "4bec8077-5f31-4372-982f-b33d912f6c45",
   "metadata": {},
   "source": [
    "## Acquisition\n",
    "\n",
    "Zillow's data was acquired from Codeup's database using the following SQL query:\n",
    "\n",
    "                             SELECT\n",
    "                                prop.*,\n",
    "                                predictions_2017.logerror,\n",
    "                                predictions_2017.transactiondate,\n",
    "                                air.airconditioningdesc,\n",
    "                                arch.architecturalstyledesc,\n",
    "                                build.buildingclassdesc,\n",
    "                                heat.heatingorsystemdesc,\n",
    "                                landuse.propertylandusedesc,\n",
    "                                story.storydesc,\n",
    "                                construct.typeconstructiondesc\n",
    "                            FROM properties_2017 prop\n",
    "                            JOIN (\n",
    "                                SELECT parcelid, MAX(transactiondate) AS max_transactiondate\n",
    "                                FROM predictions_2017\n",
    "                                GROUP BY parcelid\n",
    "                            ) pred USING(parcelid)\n",
    "                            JOIN predictions_2017 ON pred.parcelid = predictions_2017.parcelid\n",
    "                                                  AND pred.max_transactiondate = predictions_2017.transactiondate\n",
    "                            LEFT JOIN airconditioningtype air USING (airconditioningtypeid)\n",
    "                            LEFT JOIN architecturalstyletype arch USING (architecturalstyletypeid)\n",
    "                            LEFT JOIN buildingclasstype build USING (buildingclasstypeid)\n",
    "                            LEFT JOIN heatingorsystemtype heat USING (heatingorsystemtypeid)\n",
    "                            LEFT JOIN propertylandusetype landuse USING (propertylandusetypeid)\n",
    "                            LEFT JOIN storytype story USING (storytypeid)\n",
    "                            LEFT JOIN typeconstructiontype construct USING (typeconstructiontypeid)\n",
    "                            WHERE prop.latitude IS NOT NULL\n",
    "                              AND prop.longitude IS NOT NULL\n",
    "                              AND transactiondate <= '2017-12-31';             \n",
    "This query was read-in and processed via pandas.read_sql() function, which also requires a second positional argument other than the query; that being a connection to a MySQL database. This was done using user-specific credentials, but if you have a passcode or key of your own\n",
    "use a User-Defined Function (UDF) along these lines:\n",
    "\n",
    "        def get_db_url(database, username=username, host=host, password=password):\n",
    "            return f\"mysql+pymysql://{username}:{password}@{host}/{database}\"\n",
    "    \n",
    "Just set strings in the .py file containing the appropriate kwarg values. \n",
    "Copy my method of creating a csv of this dataframe, and read from it in the future, as the acquisition is otherwise computationally and chronistically exhaustive. Save yourself the time. \n",
    "\n",
    "You're tapped into the data, and quickly you'll see that it's problematic from the onset. \n",
    "****\n",
    "****"
   ]
  },
  {
   "cell_type": "code",
   "execution_count": 2,
   "id": "3971c350-07b4-4dbe-9333-d4dd57368aa2",
   "metadata": {},
   "outputs": [
    {
     "name": "stdout",
     "output_type": "stream",
     "text": [
      "Using cached CSV\n",
      "This shape (77380, 68) won't last long, and here's why:\n"
     ]
    }
   ],
   "source": [
    "# Note, that w here is being used as an alias from the wrangle.py this function was imported from in the first cell.\n",
    "df = w.acquire_zillow_data()\n",
    "print(f\"This shape {df.shape} won't last long, and here's why:\")"
   ]
  },
  {
   "cell_type": "code",
   "execution_count": 3,
   "id": "4ff4ce5c-4d49-46fd-9d64-a0d8f765c387",
   "metadata": {},
   "outputs": [
    {
     "name": "stdout",
     "output_type": "stream",
     "text": [
      "Nearly half of the data is Null \n",
      "\n",
      "\n",
      "Null Values by Column: \n",
      "                              count  percentage\n",
      "buildingclassdesc             77365       99.98\n",
      "buildingclasstypeid           77365       99.98\n",
      "finishedsquarefeet13          77339       99.95\n",
      "storytypeid                   77330       99.94\n",
      "basementsqft                  77330       99.94\n",
      "storydesc                     77330       99.94\n",
      "yardbuildingsqft26            77310       99.91\n",
      "fireplaceflag                 77208       99.78\n",
      "architecturalstyletypeid      77174       99.73\n",
      "architecturalstyledesc        77174       99.73\n",
      "typeconstructiondesc          77158       99.71\n",
      "typeconstructiontypeid        77158       99.71\n",
      "finishedsquarefeet6           76994       99.50\n",
      "pooltypeid10                  76916       99.40\n",
      "decktypeid                    76766       99.21\n",
      "poolsizesum                   76513       98.88\n",
      "pooltypeid2                   76306       98.61\n",
      "hashottuborspa                75842       98.01\n",
      "yardbuildingsqft17            74992       96.91\n",
      "taxdelinquencyyear            74494       96.27\n",
      "taxdelinquencyflag            74494       96.27\n",
      "finishedsquarefeet15          74371       96.11\n",
      "finishedsquarefeet50          71357       92.22\n",
      "finishedfloor1squarefeet      71357       92.22\n",
      "fireplacecnt                  69104       89.30\n",
      "threequarterbathnbr           67284       86.95\n",
      "pooltypeid7                   62338       80.56\n",
      "poolcnt                       61243       79.15\n",
      "numberofstories               59820       77.31\n",
      "airconditioningdesc           52427       67.75\n",
      "airconditioningtypeid         52427       67.75\n",
      "garagecarcnt                  51906       67.08\n",
      "garagetotalsqft               51906       67.08\n",
      "regionidneighborhood          46490       60.08\n",
      "heatingorsystemtypeid         27941       36.11\n",
      "heatingorsystemdesc           27941       36.11\n",
      "buildingqualitytypeid         27709       35.81\n",
      "propertyzoningdesc            27050       34.96\n",
      "unitcnt                       26818       34.66\n",
      "lotsizesquarefeet              8239       10.65\n",
      "finishedsquarefeet12           3632        4.69\n",
      "regionidcity                   1471        1.90\n",
      "fullbathcnt                     609        0.79\n",
      "calculatedbathnbr               609        0.79\n",
      "yearbuilt                       263        0.34\n",
      "censustractandblock             244        0.32\n",
      "calculatedfinishedsquarefeet    196        0.25\n",
      "structuretaxvaluedollarcnt      112        0.14\n",
      "regionidzip                      50        0.06\n",
      "taxamount                         5        0.01\n",
      " \n",
      " Total Number of Missing Values: 2555480 \n",
      "\n",
      " Proportion of Nulls in Dataframe: 0.4857\n",
      "\n",
      "--------------------------------------\n",
      "--------------------------------------\n",
      "Row-by-Row Nulls\n",
      "                 percent_cols_missing  num_rows\n",
      "num_cols_missing                               \n",
      "48                  70.58823529411765         3\n",
      "47                  69.11764705882352         3\n",
      "46                  67.64705882352942         5\n",
      "45                  66.17647058823529        50\n",
      "44                  64.70588235294117        78\n",
      "43                  63.23529411764706        28\n",
      "42                  61.76470588235294        23\n",
      "41                  60.29411764705882        29\n",
      "40                  58.82352941176471       230\n",
      "39                  57.35294117647059       285\n",
      "38                  55.88235294117647      1925\n",
      "37                  54.41176470588235      3620\n",
      "36                  52.94117647058824      5775\n",
      "35                 51.470588235294116      5148\n",
      "34                               50.0     13326\n",
      "33                 48.529411764705884     14782\n",
      "32                  47.05882352941176     12579\n",
      "31                 45.588235294117645      9891\n",
      "30                  44.11764705882353      3455\n",
      "29                  42.64705882352941      5270\n",
      "28                  41.17647058823529       455\n",
      "27                 39.705882352941174       316\n",
      "26                  38.23529411764706        65\n",
      "25                  36.76470588235294        24\n",
      "24                 35.294117647058826        13\n",
      "23                  33.82352941176471         2\n",
      "----------------------\n"
     ]
    }
   ],
   "source": [
    "print('Nearly half of the data is Null \\n\\n')\n",
    "nulls(df)"
   ]
  },
  {
   "cell_type": "markdown",
   "id": "d5240186-19c2-40a9-a54c-1672a54d040c",
   "metadata": {},
   "source": [
    "## Preparation\n",
    "The first solving approach taken for this problem is setting a threshold along columns and rows. 50% was set for each. Thirty-four columns were lost in the process (R.I.P.). You'll see this revealed by the upcoming UDF, as it prints out the columns lost based on the threshold. Print statements will indicate steps beyond that point, all the way to the cleaned dataframe being returned to its requester."
   ]
  },
  {
   "cell_type": "code",
   "execution_count": 4,
   "id": "d12cc167-a7e8-427c-806e-bf7a003d134b",
   "metadata": {},
   "outputs": [
    {
     "name": "stdout",
     "output_type": "stream",
     "text": [
      "Beginning preparation...\n",
      "\n",
      "Detecting Nulls; set to delete columns and then rows are comprised of 50% nulls\n",
      "\n",
      "    The following 34 columns were dropped because they were missing more than 50.0% of data: \n",
      "['airconditioningtypeid', 'architecturalstyletypeid', 'basementsqft', 'buildingclasstypeid', 'decktypeid', 'finishedfloor1squarefeet', 'finishedsquarefeet13', 'finishedsquarefeet15', 'finishedsquarefeet50', 'finishedsquarefeet6', 'fireplacecnt', 'garagecarcnt', 'garagetotalsqft', 'hashottuborspa', 'poolcnt', 'poolsizesum', 'pooltypeid10', 'pooltypeid2', 'pooltypeid7', 'regionidneighborhood', 'storytypeid', 'threequarterbathnbr', 'typeconstructiontypeid', 'yardbuildingsqft17', 'yardbuildingsqft26', 'numberofstories', 'fireplaceflag', 'taxdelinquencyflag', 'taxdelinquencyyear', 'airconditioningdesc', 'architecturalstyledesc', 'buildingclassdesc', 'storydesc', 'typeconstructiondesc']\n",
      "\n",
      "0 rows were dropped because they were missing more than 50.0% of data\n",
      "Selecting propertylanduse by the potential that they classify as single family residential, although indirectly\n",
      "\n",
      "Plausible candidates: Mobile Home; Manufactured, Modular, Prefabricated Homes; Cluster Home; Single Family Residential\n",
      "\n",
      "Removing properties that have zero bathrooms and zero bedrooms\n",
      "\n",
      "Preserving properties with a finished living area greater than 70 square feet\n",
      "\n",
      "California housing standards classify a bedroom as being greater than 70 sqft, any properties beneath this are undeniably not homes\n",
      "\n",
      "The minimum lot size of single family units is 5000 square feet. DataFrame excludes fields that fail to meet this criteria.\n",
      "\n",
      "Preserving certain property county landuse codes based on research\n",
      "\n",
      "Removed 13 rows where unit count is 2. Duplexes are not permitted. After reasoning through remainders, Orange county had many false detailed Nulls that were actually HIGHLY LIKELY single family residences. Unit Count NA filled with 1.\n",
      "\n",
      "Dropping columns that are redundant or provide no discernible value to this set. Details included in wrangle.py \n",
      "\n",
      "Remaining Null Count miniscule. Less than 0.000% of DF. Dropping values. \n",
      "\n",
      "City and Zip Code must have five place-holders. Many do not, are were dropped \n",
      "\n",
      "Calculating and creating an age column\n",
      "Yearbuilt converted to age. \n",
      "\n",
      "County column created using Federal Information Processing Standards\n",
      "Creating columns for tax rate and cost per square foot for structure and land \n",
      "\n",
      "Using k=3, removing outliers from continuous variables\n",
      "Creating fiscal quarters according to transaction date \n",
      "\n",
      "As per Californian tax lexy standard, taxrate listed as less than 1% removed from dataframe. Error either on input or tax record itself.\n",
      "Moving decimal points 6 to the left for latitude and longitude, as is necessary to capture the appropriate coordinates for this area of interest. \n",
      "\n",
      "Setting parcelid as the index. \n",
      "\n",
      "\n",
      "\n",
      "\n",
      "Preparation Complete. Begin Exploratory Data Analysis.\n"
     ]
    },
    {
     "data": {
      "text/plain": [
       "(32204, 22)"
      ]
     },
     "execution_count": 4,
     "metadata": {},
     "output_type": "execute_result"
    }
   ],
   "source": [
    "df = w.prep_zillow_og(df)\n",
    "df.shape"
   ]
  },
  {
   "cell_type": "markdown",
   "id": "8c9c5e21-c021-4b41-9a77-5026bfb18447",
   "metadata": {},
   "source": [
    "*** \n",
    "***\n",
    "## Exploratory Data Analysis\n",
    "\n",
    "\"HEY, wait a minute! You haven't shown me any univariate relationships or distributions! AND you haven't split your data!\" - Fluster(at)ed Imaginary Zillow Employee Who Will Probably be one of the 25% of staff dropped in 2020. (We're pretending it's 2017. I wish.)\n",
    "\n",
    "Now, now, now. I was just demonstrating the prepare function. I actually have a wrangle function that will return the splits: train, validate, and test, as well as the X_train, y_train, X_validate, y_....you get the idea. \n",
    "\n",
    "But since EDA doesn't need those other elements, all I need to grab here is train."
   ]
  },
  {
   "cell_type": "code",
   "execution_count": 5,
   "id": "d2b11324-684c-498e-907b-56a229cf2002",
   "metadata": {},
   "outputs": [
    {
     "name": "stdout",
     "output_type": "stream",
     "text": [
      "Using cached CSV\n"
     ]
    }
   ],
   "source": [
    "train = w.get_exploration_data()"
   ]
  },
  {
   "cell_type": "code",
   "execution_count": 6,
   "id": "07c5f0e5-44de-4625-bcf8-5b18533b2d48",
   "metadata": {},
   "outputs": [],
   "source": [
    "#folium_map = eda.california(train)\n",
    "#folium_map"
   ]
  },
  {
   "cell_type": "markdown",
   "id": "c8f085d4-3b3a-47c8-be41-58afcd8e5786",
   "metadata": {},
   "source": [
    "### So on average, how large is the land that we are looking at?"
   ]
  },
  {
   "cell_type": "code",
   "execution_count": 10,
   "id": "8d61b331-c736-40a6-8687-aebbfed3e104",
   "metadata": {},
   "outputs": [
    {
     "name": "stderr",
     "output_type": "stream",
     "text": [
      "Using categorical units to plot a list of strings that are all parsable as floats or dates. If these strings should be plotted as numbers, cast to the appropriate data type before plotting.\n",
      "Using categorical units to plot a list of strings that are all parsable as floats or dates. If these strings should be plotted as numbers, cast to the appropriate data type before plotting.\n"
     ]
    },
    {
     "name": "stdout",
     "output_type": "stream",
     "text": [
      "First off, Mr. Warning Message/Error from LoZ 2, YOU'RE NOT MY REAL DAD\n"
     ]
    },
    {
     "data": {
      "image/png": "[encoded data removed]",
      "text/plain": [
       "<Figure size 1152x576 with 3 Axes>"
      ]
     },
     "metadata": {
      "needs_background": "light"
     },
     "output_type": "display_data"
    },
    {
     "name": "stdout",
     "output_type": "stream",
     "text": [
      "             \n",
      "                                The vast majority of land is well under 1/5 of an acre\n",
      "                             With a spike in low costs, and low area. \n",
      "                             \n",
      "                                Each of the four-digit land use codes belong to Los Angeles,\n",
      "                            hence their abundance of representation.\n",
      "          \n",
      "---------------------------------------------------------------    ---------------------------------------------------------------------------\n"
     ]
    }
   ],
   "source": [
    "eda.landquest(train)"
   ]
  },
  {
   "cell_type": "markdown",
   "id": "e88d54e9-9240-491b-a435-8cf45bee7772",
   "metadata": {},
   "source": [
    "### How similarly are the costs per square foot features distributed? Do the costs seem realisitic? And while looking at engineered features, was there a fiscal quarter that factored noticeably more properties? "
   ]
  },
  {
   "cell_type": "code",
   "execution_count": 16,
   "id": "660af40b-f059-4746-ba83-97eafd2e651c",
   "metadata": {},
   "outputs": [
    {
     "data": {
      "image/png": "[encoded data removed]",
      "text/plain": [
       "<Figure size 1152x576 with 3 Axes>"
      ]
     },
     "metadata": {
      "needs_background": "light"
     },
     "output_type": "display_data"
    },
    {
     "name": "stdout",
     "output_type": "stream",
     "text": [
      "\n",
      "                            Unsurprisingly, structural costs per sq ft blow land costs out of the water.\n",
      "                            In the current times, the median cost of a square foot of land in LA, CA, is $1.38.\n",
      "                            I'll check to see if this lines up with the dataframe. Moreover, the cost \n",
      "                            to build a home ranges from $100-$400 this year, we can also check \n",
      "                            if there is consistency with 2017 by examining the margins more closely.\n",
      "         \n",
      "          \n",
      "---------------------------------------------------------------------    ---------------------------------------------------------------------\n"
     ]
    }
   ],
   "source": [
    "eda.costpersqft(train)"
   ]
  },
  {
   "cell_type": "code",
   "execution_count": 36,
   "id": "6b301531-2b10-45d2-864e-2992e342eca3",
   "metadata": {},
   "outputs": [
    {
     "name": "stdout",
     "output_type": "stream",
     "text": [
      " Median value for land in Los Angeles is 26.45 per square foot\n",
      "Median value for land in Orange is 41.29 per square foot\n"
     ]
    }
   ],
   "source": [
    "la_bby = train[train['los_angeles'] == 1]\n",
    "land_cost_median = np.median(la_bby['land_cost_per_sqft'])\n",
    "land_cost_median\n",
    "\n",
    "orange_hny = train[train['orange'] == 1]\n",
    "orange_hnny_median = np.median(orange_hny['land_cost_per_sqft'])\n",
    "\n",
    "print(f' Median value for land in Los Angeles is {round(land_cost_median,2)} per square foot')\n",
    "print(f'Median value for land in Orange is {round(orange_hnny_median,2)} per square foot')"
   ]
  },
  {
   "cell_type": "markdown",
   "id": "72fbaae7-e72d-4335-88e9-4612ec97d140",
   "metadata": {},
   "source": [
    "Downard trends taken from the visualization:\n",
    "- tax value decreases as the property ages, particular beyond a half-decade.\n",
    "- the older a property is, the smaller it tends to be. And so with age, numbers of beds and baths also decrease.\n",
    "\n",
    "Upward trends, those that potentially drive up value:\n",
    "- Unsurprisingly, as area gets larger, so too does the assessed value. Moreover, more bed, more baths, more beyond. Where beyond is the assessed value. "
   ]
  },
  {
   "cell_type": "markdown",
   "id": "e61102e2-4a8e-4526-a087-7577ffa07ec8",
   "metadata": {},
   "source": [
    "#### A closer look: bringing the heat with correlation."
   ]
  },
  {
   "cell_type": "code",
   "execution_count": 4,
   "id": "1d293128-6fd8-42c0-b690-d5d982fb6d09",
   "metadata": {},
   "outputs": [
    {
     "data": {
      "image/png": "[encoded data removed]",
      "text/plain": [
       "<Figure size 432x432 with 2 Axes>"
      ]
     },
     "metadata": {
      "needs_background": "light"
     },
     "output_type": "display_data"
    },
    {
     "data": {
      "image/png": "[encoded data removed]",
      "text/plain": [
       "<Figure size 432x432 with 2 Axes>"
      ]
     },
     "metadata": {
      "needs_background": "light"
     },
     "output_type": "display_data"
    }
   ],
   "source": [
    "tax_correlations(train)"
   ]
  },
  {
   "cell_type": "markdown",
   "id": "3ca10aa2-49af-431f-9f21-b33193b93f3d",
   "metadata": {},
   "source": [
    "Insights:\n",
    "This is in line with what has been inferred by looking at those pairplots. Area is close to having a moderate relationship, but ultimately the correlation coefficients are not high enough at present to be considered reliable. \n",
    "The surprise here is that Los Angeles is, at least from how this data has been cleaned, showing a negative correlation with tax value. And so, this suggests that costs are lower there, so perhaps the homes are older, and hence smaller, in many mapped pockets. "
   ]
  },
  {
   "cell_type": "markdown",
   "id": "1e923a20-25af-414e-ad81-f69bb6d329e9",
   "metadata": {},
   "source": [
    "### Zillow is Begging the Question(s)\n",
    "Statistical ones, that is. \n",
    "Let's look more closely, starting with age and tax value. \n",
    "Here you see density contour lines indicating that the tax value is lowest among homes sixty years old or older. \n",
    "But statistically, is there any significance to this?"
   ]
  },
  {
   "cell_type": "code",
   "execution_count": 5,
   "id": "67ccc397-3913-4770-9726-df8e93012cea",
   "metadata": {},
   "outputs": [
    {
     "data": {
      "text/html": [
       "<iframe\n",
       "    scrolling=\"no\"\n",
       "    width=\"100%\"\n",
       "    height=\"545px\"\n",
       "    src=\"iframe_figures/figure_5.html\"\n",
       "    frameborder=\"0\"\n",
       "    allowfullscreen\n",
       "></iframe>\n"
      ]
     },
     "metadata": {},
     "output_type": "display_data"
    }
   ],
   "source": [
    "show_maps_tv_age(train)"
   ]
  },
  {
   "cell_type": "markdown",
   "id": "d052bad7-26db-416d-90f0-c39d731f05f4",
   "metadata": {},
   "source": [
    "To test this, using an alpha value of 0.01, Spearman's coefficiency test was conducted with train.age and train.tax_value. The null was that a home's value is independent of age; this was rejected, and we moved forward with the firm belief that tax value in some way depends on age, overall. "
   ]
  },
  {
   "cell_type": "code",
   "execution_count": 6,
   "id": "bee446b7-2d4a-4c78-a5f8-eae888ac0327",
   "metadata": {},
   "outputs": [
    {
     "name": "stdout",
     "output_type": "stream",
     "text": [
      "Having successfully rejected the null, a home's value in some way depends on its age \n"
     ]
    }
   ],
   "source": [
    "test_age(train)"
   ]
  },
  {
   "cell_type": "markdown",
   "id": "13b1d99c-71ec-42c6-8899-4b45e044a7cd",
   "metadata": {},
   "source": [
    "### Knowing that age is worth consideration, how does it interact with area?\n",
    "It is fair to assume that homes in the afforementioned mid-20th century strata would be smaller, since intuitively, as well as economically, property is worth more the larger the area. This is of course affected by its condition and attributes, but for now, let's set that aside and test if there's statistical relevancy to size in general. "
   ]
  },
  {
   "cell_type": "code",
   "execution_count": 7,
   "id": "72275b9c-d12d-4950-b9f5-a05d47aea3ef",
   "metadata": {},
   "outputs": [
    {
     "data": {
      "text/html": [
       "<iframe\n",
       "    scrolling=\"no\"\n",
       "    width=\"100%\"\n",
       "    height=\"545px\"\n",
       "    src=\"iframe_figures/figure_7.html\"\n",
       "    frameborder=\"0\"\n",
       "    allowfullscreen\n",
       "></iframe>\n"
      ]
     },
     "metadata": {},
     "output_type": "display_data"
    }
   ],
   "source": [
    "show_maps_age_area(train)"
   ]
  },
  {
   "cell_type": "markdown",
   "id": "85638d41-a52a-486e-96c2-e69b5d6a95a3",
   "metadata": {},
   "source": [
    "#### Does size really matter?\n",
    "Continuing with using a confidence interval of 99%, bigger houses were made into a variable based on the median area, 1679. An independent t-test was conducted, and houses greater than or equal to 1679 square feet are in no way dependent on those less than it, so size does matter when it comes to value; and this has its own implications for age. "
   ]
  },
  {
   "cell_type": "code",
   "execution_count": 8,
   "id": "42ac7d3d-8f8e-42f9-9ae4-01519ab52206",
   "metadata": {},
   "outputs": [
    {
     "name": "stdout",
     "output_type": "stream",
     "text": [
      "Reject null hypothesis that: Median home value 1,679 sq ft, whether increased or decreased, is independent of assessed value.\n"
     ]
    }
   ],
   "source": [
    "testing_area(train)"
   ]
  },
  {
   "cell_type": "markdown",
   "id": "20efdb25-e94b-440c-a118-47989b4f7116",
   "metadata": {},
   "source": [
    "### Speaking about area makes me feel dirty. Let's test some areas used for cleaning now, shall we?\n",
    "Let's visualize baths as they relate to age, just for fun. I'm getting older, and I want to see some violins. "
   ]
  },
  {
   "cell_type": "code",
   "execution_count": 9,
   "id": "7e05d275-3aae-45ee-ab88-6f2e33ac2ec5",
   "metadata": {},
   "outputs": [
    {
     "data": {
      "text/html": [
       "<iframe\n",
       "    scrolling=\"no\"\n",
       "    width=\"100%\"\n",
       "    height=\"545px\"\n",
       "    src=\"iframe_figures/figure_9.html\"\n",
       "    frameborder=\"0\"\n",
       "    allowfullscreen\n",
       "></iframe>\n"
      ]
     },
     "metadata": {},
     "output_type": "display_data"
    }
   ],
   "source": [
    "baths_and_age(train)"
   ]
  },
  {
   "cell_type": "markdown",
   "id": "4dd4b267-e6b1-4242-aa69-315f437d7738",
   "metadata": {},
   "source": [
    "### Like music to my eyes. \n",
    "Not as pleasant as auditory experiences. Bathrooms have such nice acoustics, they work well for vocal booths. \n",
    "But the sound of silence is excellent in bathrooms, too, especially in public ones. Which are becoming decreasingly unavailable or restrictive in California. \n",
    "\n",
    "Anyhow, note that through early exporation it became apparent that half bathrooms only appear beyond 0% in Ventura and Orange, so each of these mid points is in either Ventura or Orange county. \n",
    "\n",
    "With that in mind, notice how one bathroom homes have their highest representation from a half-century to a full century; many of those may be in Los Angeles. As bathrooms swell in size, drooping down like icicles, the age drops. Newer homes have more bathrooms, collectively, than old ones. \n",
    "\n",
    "## Let's test out these toilets. \n",
    "\n",
    "Spearman's correlation handles outliers better for this scenario, and more generally. Alpha stays the same, and we once again have successfully rejected the null. \n",
    "\n",
    "We can only go up from here, right?\n",
    "\n",
    "                                                                           right?"
   ]
  },
  {
   "cell_type": "code",
   "execution_count": 10,
   "id": "094bf9f3-1f4a-4c5e-86ef-5b9232fa632a",
   "metadata": {},
   "outputs": [
    {
     "name": "stdout",
     "output_type": "stream",
     "text": [
      "\n",
      "r =  -0.58\n",
      "p =  0.0\n",
      "\n",
      "Reject H0\n",
      "Thus, number of baths and age have a linear relationship.\n"
     ]
    }
   ],
   "source": [
    "test_baths(train)"
   ]
  },
  {
   "cell_type": "markdown",
   "id": "16f76867-d642-47e7-818a-98a2e1cf5ce6",
   "metadata": {},
   "source": [
    "***\n",
    "***\n",
    "\n",
    "## Preprocessing and Modeling"
   ]
  },
  {
   "cell_type": "markdown",
   "id": "0e8f17ef-2e2a-4f62-a040-7d38b7e58855",
   "metadata": {},
   "source": [
    "All is fair in love and scaling, even in a place like Southern California. \n",
    "I used a MinMax scaler here. Subsequently it was recursively feature engineered, so as to accomodate five features in hopes of optimizing our upcoming machine learning model. "
   ]
  },
  {
   "cell_type": "code",
   "execution_count": 11,
   "id": "ef5c894d-f8c9-4aa9-bb77-d2b7e8a0a09b",
   "metadata": {},
   "outputs": [],
   "source": [
    "X_train_scaled, X_validate_scaled, X_test_scaled = scale_data(X_train, X_validate, X_test)"
   ]
  },
  {
   "cell_type": "code",
   "execution_count": 12,
   "id": "33c7786d-71ec-4480-95e1-5b68b6f30913",
   "metadata": {},
   "outputs": [
    {
     "data": {
      "image/png": "[encoded data removed]",
      "text/plain": [
       "<Figure size 936x432 with 2 Axes>"
      ]
     },
     "metadata": {
      "needs_background": "light"
     },
     "output_type": "display_data"
    }
   ],
   "source": [
    "scaling_impact(X_train, X_train_scaled)"
   ]
  },
  {
   "cell_type": "code",
   "execution_count": 13,
   "id": "738b9db2-fc6f-4f36-a90d-316937544d68",
   "metadata": {},
   "outputs": [],
   "source": [
    "features_to_use, feature_rankings = select_rfe(X_train_scaled, y_train, 5, return_rankings=True)"
   ]
  },
  {
   "cell_type": "code",
   "execution_count": 14,
   "id": "e4b3a523-cbbb-4ba3-93a6-edd80d3e0e4f",
   "metadata": {},
   "outputs": [
    {
     "name": "stdout",
     "output_type": "stream",
     "text": [
      " \n",
      " Use the following features: \n",
      "\n",
      "beds           1\n",
      "baths          1\n",
      "area           1\n",
      "age            1\n",
      "los_angeles    1\n",
      "orange         2\n",
      "dtype: int64\n"
     ]
    }
   ],
   "source": [
    "#print(feature_rankings.sort_values())\n",
    "print(' \\n Use the following features: \\n')\n",
    "print(feature_rankings)\n",
    "features = ['beds', 'baths', 'area', 'age', 'los_angeles']"
   ]
  },
  {
   "cell_type": "markdown",
   "id": "af1e7845-a294-4ed2-9469-049ace315e0f",
   "metadata": {},
   "source": [
    "### One step at a time. \n",
    "Step One, establish a baseline. "
   ]
  },
  {
   "cell_type": "code",
   "execution_count": 15,
   "id": "99918374-fa64-4e71-a85e-761ce448267f",
   "metadata": {},
   "outputs": [
    {
     "name": "stdout",
     "output_type": "stream",
     "text": [
      "RMSE using Mean\n",
      "Train/In-Sample:  244358.79 \n",
      "Validate/Out-of-Sample:  247383.7\n",
      "-----------\n",
      "RMSE using Median\n",
      "Train/In-Sample:  246614.86 \n",
      "Validate/Out-of-Sample:  249653.86\n"
     ]
    }
   ],
   "source": [
    "# 1. Predict mean tax value \n",
    "tv_pred_mean = y_train.tax_value.mean()\n",
    "y_train['tv_pred_mean'] = tv_pred_mean\n",
    "y_validate['tv_pred_mean'] = tv_pred_mean\n",
    "\n",
    "# 2. Predict median tax value \n",
    "tv_pred_median = y_train.tax_value.median()\n",
    "y_train['tv_pred_median'] = tv_pred_median\n",
    "y_validate['tv_pred_median'] = tv_pred_median\n",
    "\n",
    "# 3. RMSE of tv_pred_mean\n",
    "rmse_train = mean_squared_error(y_train.tax_value, y_train.tv_pred_mean) ** 0.5\n",
    "rmse_validate = mean_squared_error(y_validate.tax_value, y_validate.tv_pred_mean) ** 0.5\n",
    "\n",
    "print(\"RMSE using Mean\\nTrain/In-Sample: \", round(rmse_train, 2), \n",
    "      \"\\nValidate/Out-of-Sample: \", round(rmse_validate, 2))\n",
    "\n",
    "# 4. RMSE of tv_pred_median\n",
    "rmse_train1 = mean_squared_error(y_train.tax_value, y_train.tv_pred_median) ** .5\n",
    "rmse_validate1 = mean_squared_error(y_validate.tax_value, y_validate.tv_pred_median) ** .5\n",
    "print('-----------')\n",
    "print(\"RMSE using Median\\nTrain/In-Sample: \", round(rmse_train1, 2), \n",
    "      \"\\nValidate/Out-of-Sample: \", round(rmse_validate1, 2))"
   ]
  },
  {
   "cell_type": "markdown",
   "id": "470e349d-489c-44f5-8895-fd0d15a89a01",
   "metadata": {},
   "source": [
    "### Mean and median are close contenders.\n",
    "I really don't know the advantage to either, so I'll flip a coin. \n",
    "My odds are better doing that than they would be trusting assessed tax records as a significant indicator of market value. \n",
    "#### flips coin\n",
    "##### it's a head\n",
    "## Heads-up, we're going with mean\n",
    "\n",
    "Let's put it into an empty data frame. "
   ]
  },
  {
   "cell_type": "code",
   "execution_count": 16,
   "id": "58e513a2-0026-430f-89e6-8794c848c10e",
   "metadata": {},
   "outputs": [],
   "source": [
    "# add the mean baseline to a df to help evaluate all models side by side\n",
    "metric_df = pd.DataFrame(data=[{\n",
    "    'model': 'mean_baseline',\n",
    "    'rmse_outofsample': rmse_validate,\n",
    "    'r^2_outofsample': explained_variance_score(y_validate.tax_value, y_validate.tv_pred_mean)}])"
   ]
  },
  {
   "cell_type": "code",
   "execution_count": 17,
   "id": "965eb3ea-247b-4cc7-9347-b7bb207fffcb",
   "metadata": {},
   "outputs": [
    {
     "data": {
      "text/html": [
       "<div><div id=1ebd8475-0424-4292-870a-1f1bc1b64118 style=\"display:none; background-color:#9D6CFF; color:white; width:200px; height:30px; padding-left:5px; border-radius:4px; flex-direction:row; justify-content:space-around; align-items:center;\" onmouseover=\"this.style.backgroundColor='#BA9BF8'\" onmouseout=\"this.style.backgroundColor='#9D6CFF'\" onclick=\"window.commands?.execute('create-mitosheet-from-dataframe-output');\">See Full Dataframe in Mito</div> <script> if (window.commands.hasCommand('create-mitosheet-from-dataframe-output')) document.getElementById('1ebd8475-0424-4292-870a-1f1bc1b64118').style.display = 'flex' </script> <table border=\"1\" class=\"dataframe\">\n",
       "  <thead>\n",
       "    <tr style=\"text-align: right;\">\n",
       "      <th></th>\n",
       "      <th>model</th>\n",
       "      <th>rmse_outofsample</th>\n",
       "      <th>r^2_outofsample</th>\n",
       "    </tr>\n",
       "  </thead>\n",
       "  <tbody>\n",
       "    <tr>\n",
       "      <th>0</th>\n",
       "      <td>mean_baseline</td>\n",
       "      <td>247383.703403</td>\n",
       "      <td>0.0</td>\n",
       "    </tr>\n",
       "  </tbody>\n",
       "</table></div>"
      ],
      "text/plain": [
       "           model  rmse_outofsample  r^2_outofsample\n",
       "0  mean_baseline     247383.703403              0.0"
      ]
     },
     "execution_count": 17,
     "metadata": {},
     "output_type": "execute_result"
    }
   ],
   "source": [
    "metric_df"
   ]
  },
  {
   "cell_type": "markdown",
   "id": "c8b7cda2-abef-47d5-babb-40bdf48eaf47",
   "metadata": {},
   "source": [
    "### OLS"
   ]
  },
  {
   "cell_type": "code",
   "execution_count": 18,
   "id": "bbf36f95-4b78-4be5-bd3f-ce56e4096b2f",
   "metadata": {},
   "outputs": [
    {
     "name": "stdout",
     "output_type": "stream",
     "text": [
      "RMSE for OLS using LinearRegression\n",
      "Training/In-Sample:  211815.74555149165 \n",
      "Validation/Out-of-Sample:  213948.6103911231\n"
     ]
    }
   ],
   "source": [
    "lm = LinearRegression()\n",
    "lm.fit(X_train_scaled[features], y_train.tax_value)\n",
    "y_train['tv_pred_lm'] = lm.predict(X_train_scaled[features])\n",
    "# evaluate: rmse\n",
    "rmse_train = mean_squared_error(y_train.tax_value, y_train.tv_pred_lm) ** (1/2)\n",
    "# predict validate\n",
    "y_validate['tv_pred_lm'] = lm.predict(X_validate_scaled[features])\n",
    "# evaluate: rmse\n",
    "rmse_validate = mean_squared_error(y_validate.tax_value, y_validate.tv_pred_lm) ** (1/2)\n",
    "\n",
    "print(\"RMSE for OLS using LinearRegression\\nTraining/In-Sample: \", rmse_train, \n",
    "      \"\\nValidation/Out-of-Sample: \", rmse_validate)"
   ]
  },
  {
   "cell_type": "code",
   "execution_count": 19,
   "id": "1c296cc8-6162-44d4-89c7-f7b319b5b54b",
   "metadata": {},
   "outputs": [],
   "source": [
    "# add model's performance to metric df\n",
    "metric_df = metric_df.append(\n",
    "    {\n",
    "    'model': 'OLS lm',\n",
    "    'rmse_outofsample': rmse_validate,\n",
    "        'r^2_outofsample': explained_variance_score(y_validate.tax_value, y_validate.tv_pred_lm)}, ignore_index=True)"
   ]
  },
  {
   "cell_type": "markdown",
   "id": "40285c88-2547-418a-aee2-391667b5bbeb",
   "metadata": {},
   "source": [
    "## Tweedie"
   ]
  },
  {
   "cell_type": "code",
   "execution_count": 20,
   "id": "11e1adda-4c1f-47f3-87ff-fbcecb3b4806",
   "metadata": {},
   "outputs": [
    {
     "name": "stdout",
     "output_type": "stream",
     "text": [
      "RMSE for GLM using Tweedie, power=1 & alpha=0\n",
      "Training/In-Sample:  237778.34731167604 \n",
      "Validation/Out-of-Sample:  240893.92232643464\n"
     ]
    }
   ],
   "source": [
    "glm = TweedieRegressor(power=0, alpha=1)\n",
    "glm.fit(X_train_scaled[features], y_train.tax_value)\n",
    "y_train['tv_pred_glm'] = glm.predict(X_train_scaled[features])\n",
    "\n",
    "# evaluate: rmse\n",
    "rmse_train = mean_squared_error(y_train.tax_value, y_train.tv_pred_glm) ** (1/2)\n",
    "# predict validate\n",
    "y_validate['tv_pred_glm'] = glm.predict(X_validate_scaled[features])\n",
    "# evaluate: rmse\n",
    "rmse_validate = mean_squared_error(y_validate.tax_value, y_validate.tv_pred_glm) ** (1/2)\n",
    "\n",
    "\n",
    "print(\"RMSE for GLM using Tweedie, power=1 & alpha=0\\nTraining/In-Sample: \", rmse_train, \n",
    "      \"\\nValidation/Out-of-Sample: \", rmse_validate)"
   ]
  },
  {
   "cell_type": "code",
   "execution_count": 21,
   "id": "df8401fb-1d95-4ce7-be1a-f128dddf87f7",
   "metadata": {},
   "outputs": [],
   "source": [
    "# add model to metric df\n",
    "metric_df = metric_df.append(\n",
    "    {\n",
    "    'model': 'Tweedie GLM power 1',\n",
    "    'rmse_outofsample': rmse_validate,\n",
    "    'r^2_outofsample': explained_variance_score(y_validate.tax_value, y_validate.tv_pred_glm)}, ignore_index=True)"
   ]
  },
  {
   "cell_type": "code",
   "execution_count": 22,
   "id": "e8d906c6-faf8-44e2-aa7d-1902fdf86263",
   "metadata": {},
   "outputs": [
    {
     "data": {
      "text/html": [
       "<div><div id=69352c5d-d3ed-4ea0-b744-5105d1b3f4ba style=\"display:none; background-color:#9D6CFF; color:white; width:200px; height:30px; padding-left:5px; border-radius:4px; flex-direction:row; justify-content:space-around; align-items:center;\" onmouseover=\"this.style.backgroundColor='#BA9BF8'\" onmouseout=\"this.style.backgroundColor='#9D6CFF'\" onclick=\"window.commands?.execute('create-mitosheet-from-dataframe-output');\">See Full Dataframe in Mito</div> <script> if (window.commands.hasCommand('create-mitosheet-from-dataframe-output')) document.getElementById('69352c5d-d3ed-4ea0-b744-5105d1b3f4ba').style.display = 'flex' </script> <table border=\"1\" class=\"dataframe\">\n",
       "  <thead>\n",
       "    <tr style=\"text-align: right;\">\n",
       "      <th></th>\n",
       "      <th>model</th>\n",
       "      <th>rmse_outofsample</th>\n",
       "      <th>r^2_outofsample</th>\n",
       "    </tr>\n",
       "  </thead>\n",
       "  <tbody>\n",
       "    <tr>\n",
       "      <th>0</th>\n",
       "      <td>mean_baseline</td>\n",
       "      <td>247383.703403</td>\n",
       "      <td>0.000000</td>\n",
       "    </tr>\n",
       "    <tr>\n",
       "      <th>1</th>\n",
       "      <td>OLS lm</td>\n",
       "      <td>213948.610391</td>\n",
       "      <td>0.252141</td>\n",
       "    </tr>\n",
       "    <tr>\n",
       "      <th>2</th>\n",
       "      <td>Tweedie GLM power 1</td>\n",
       "      <td>240893.922326</td>\n",
       "      <td>0.051778</td>\n",
       "    </tr>\n",
       "  </tbody>\n",
       "</table></div>"
      ],
      "text/plain": [
       "                 model  rmse_outofsample  r^2_outofsample\n",
       "0        mean_baseline     247383.703403         0.000000\n",
       "1               OLS lm     213948.610391         0.252141\n",
       "2  Tweedie GLM power 1     240893.922326         0.051778"
      ]
     },
     "execution_count": 22,
     "metadata": {},
     "output_type": "execute_result"
    }
   ],
   "source": [
    "metric_df"
   ]
  },
  {
   "cell_type": "markdown",
   "id": "89fb9ed8-aef9-4c7f-b951-b41f07b7ae1b",
   "metadata": {},
   "source": [
    "## Lasso + Lars"
   ]
  },
  {
   "cell_type": "code",
   "execution_count": 23,
   "id": "a734bfac-f320-46b3-9b46-89100bd97e31",
   "metadata": {},
   "outputs": [
    {
     "name": "stdout",
     "output_type": "stream",
     "text": [
      "RMSE for Lasso + Lars\n",
      "Training/In-Sample:  211816.0944804274 \n",
      "Validation/Out-of-Sample:  213952.88164697244\n"
     ]
    }
   ],
   "source": [
    "lars = LassoLars(alpha=1)\n",
    "lars.fit(X_train_scaled[features], y_train.tax_value)\n",
    "y_train['tv_pred_lars'] = lars.predict(X_train_scaled[features])\n",
    "\n",
    "# evaluate: rmse\n",
    "rmse_train = mean_squared_error(y_train.tax_value, y_train.tv_pred_lars) ** (1/2)\n",
    "# predict validate\n",
    "y_validate['tv_pred_lars'] = lars.predict(X_validate_scaled[features])\n",
    "# evaluate: rmse\n",
    "rmse_validate = mean_squared_error(y_validate.tax_value, y_validate.tv_pred_lars) ** (1/2)\n",
    "\n",
    "print(\"RMSE for Lasso + Lars\\nTraining/In-Sample: \", rmse_train, \n",
    "      \"\\nValidation/Out-of-Sample: \", rmse_validate)"
   ]
  },
  {
   "cell_type": "code",
   "execution_count": 24,
   "id": "0995410a-4719-4a07-80b3-95b8b5f760e1",
   "metadata": {},
   "outputs": [],
   "source": [
    "# add model to metric df\n",
    "metric_df = metric_df.append(\n",
    "    {\n",
    "    'model': 'LassoLars alpha 1',\n",
    "    'rmse_outofsample': rmse_validate,\n",
    "    'r^2_outofsample': explained_variance_score(y_validate.tax_value, y_validate.tv_pred_lars)}, ignore_index=True)"
   ]
  },
  {
   "cell_type": "code",
   "execution_count": 25,
   "id": "0e266604-f938-44f4-8995-0d2fdbda02f6",
   "metadata": {},
   "outputs": [
    {
     "data": {
      "text/html": [
       "<div><div id=1df5b817-5f5f-4b59-b182-206d4808e0d7 style=\"display:none; background-color:#9D6CFF; color:white; width:200px; height:30px; padding-left:5px; border-radius:4px; flex-direction:row; justify-content:space-around; align-items:center;\" onmouseover=\"this.style.backgroundColor='#BA9BF8'\" onmouseout=\"this.style.backgroundColor='#9D6CFF'\" onclick=\"window.commands?.execute('create-mitosheet-from-dataframe-output');\">See Full Dataframe in Mito</div> <script> if (window.commands.hasCommand('create-mitosheet-from-dataframe-output')) document.getElementById('1df5b817-5f5f-4b59-b182-206d4808e0d7').style.display = 'flex' </script> <table border=\"1\" class=\"dataframe\">\n",
       "  <thead>\n",
       "    <tr style=\"text-align: right;\">\n",
       "      <th></th>\n",
       "      <th>model</th>\n",
       "      <th>rmse_outofsample</th>\n",
       "      <th>r^2_outofsample</th>\n",
       "    </tr>\n",
       "  </thead>\n",
       "  <tbody>\n",
       "    <tr>\n",
       "      <th>0</th>\n",
       "      <td>mean_baseline</td>\n",
       "      <td>247383.703403</td>\n",
       "      <td>0.000000</td>\n",
       "    </tr>\n",
       "    <tr>\n",
       "      <th>1</th>\n",
       "      <td>OLS lm</td>\n",
       "      <td>213948.610391</td>\n",
       "      <td>0.252141</td>\n",
       "    </tr>\n",
       "    <tr>\n",
       "      <th>2</th>\n",
       "      <td>Tweedie GLM power 1</td>\n",
       "      <td>240893.922326</td>\n",
       "      <td>0.051778</td>\n",
       "    </tr>\n",
       "    <tr>\n",
       "      <th>3</th>\n",
       "      <td>LassoLars alpha 1</td>\n",
       "      <td>213952.881647</td>\n",
       "      <td>0.252111</td>\n",
       "    </tr>\n",
       "  </tbody>\n",
       "</table></div>"
      ],
      "text/plain": [
       "                 model  rmse_outofsample  r^2_outofsample\n",
       "0        mean_baseline     247383.703403         0.000000\n",
       "1               OLS lm     213948.610391         0.252141\n",
       "2  Tweedie GLM power 1     240893.922326         0.051778\n",
       "3    LassoLars alpha 1     213952.881647         0.252111"
      ]
     },
     "execution_count": 25,
     "metadata": {},
     "output_type": "execute_result"
    }
   ],
   "source": [
    "metric_df"
   ]
  },
  {
   "cell_type": "markdown",
   "id": "2d8d4fd3-618e-48e0-b40c-a96bd0c962ed",
   "metadata": {},
   "source": [
    "## Polynomial Regression"
   ]
  },
  {
   "cell_type": "code",
   "execution_count": 26,
   "id": "7c69ac9d-ac88-417d-ba0c-32a3bd7f91e9",
   "metadata": {},
   "outputs": [],
   "source": [
    "# make the polynomial features to get a new set of features\n",
    "pf = PolynomialFeatures(degree=3)\n",
    "\n",
    "# fit and transform X_train_scaled features\n",
    "X_train_degree3 = pf.fit_transform(X_train_scaled[features])\n",
    "\n",
    "# transform X_validate_scaled & X_test_scaled\n",
    "X_validate_degree3 = pf.transform(X_validate_scaled[features])\n",
    "X_test_degree3 = pf.transform(X_test_scaled[features])\n"
   ]
  },
  {
   "cell_type": "code",
   "execution_count": 27,
   "id": "6f8b5227-e56e-4a7c-af79-9750abc05d07",
   "metadata": {},
   "outputs": [
    {
     "name": "stdout",
     "output_type": "stream",
     "text": [
      "RMSE for PolynomialRegression\n",
      "Training/In-Sample:  205490.94732272287 \n",
      "Validation/Out-of-Sample:  208428.68930359627\n"
     ]
    }
   ],
   "source": [
    "pm = LinearRegression(normalize=True)\n",
    "\n",
    "pm.fit(X_train_degree3, y_train.tax_value)\n",
    "\n",
    "y_train['tv_pred_pm'] = pm.predict(X_train_degree3)\n",
    "\n",
    "# evaluate: rmse\n",
    "rmse_train = mean_squared_error(y_train.tax_value, y_train.tv_pred_pm) ** (1/2)\n",
    "\n",
    "# predict validate\n",
    "y_validate['tv_pred_pm'] = pm.predict(X_validate_degree3)\n",
    "\n",
    "# evaluate: rmse\n",
    "rmse_validate = mean_squared_error(y_validate.tax_value, y_validate.tv_pred_pm) ** (1/2)\n",
    "\n",
    "print(\"RMSE for PolynomialRegression\\nTraining/In-Sample: \", rmse_train, \n",
    "      \"\\nValidation/Out-of-Sample: \", rmse_validate)"
   ]
  },
  {
   "cell_type": "code",
   "execution_count": 28,
   "id": "25d04e30-de8a-44ba-840a-ed6e71e54b28",
   "metadata": {},
   "outputs": [
    {
     "data": {
      "text/html": [
       "<div><div id=2f146c8f-e210-4324-9d97-ed15a0b6aa15 style=\"display:none; background-color:#9D6CFF; color:white; width:200px; height:30px; padding-left:5px; border-radius:4px; flex-direction:row; justify-content:space-around; align-items:center;\" onmouseover=\"this.style.backgroundColor='#BA9BF8'\" onmouseout=\"this.style.backgroundColor='#9D6CFF'\" onclick=\"window.commands?.execute('create-mitosheet-from-dataframe-output');\">See Full Dataframe in Mito</div> <script> if (window.commands.hasCommand('create-mitosheet-from-dataframe-output')) document.getElementById('2f146c8f-e210-4324-9d97-ed15a0b6aa15').style.display = 'flex' </script> <table border=\"1\" class=\"dataframe\">\n",
       "  <thead>\n",
       "    <tr style=\"text-align: right;\">\n",
       "      <th></th>\n",
       "      <th>model</th>\n",
       "      <th>rmse_outofsample</th>\n",
       "      <th>r^2_outofsample</th>\n",
       "    </tr>\n",
       "  </thead>\n",
       "  <tbody>\n",
       "    <tr>\n",
       "      <th>0</th>\n",
       "      <td>mean_baseline</td>\n",
       "      <td>247383.703403</td>\n",
       "      <td>0.000000</td>\n",
       "    </tr>\n",
       "    <tr>\n",
       "      <th>1</th>\n",
       "      <td>OLS lm</td>\n",
       "      <td>213948.610391</td>\n",
       "      <td>0.252141</td>\n",
       "    </tr>\n",
       "    <tr>\n",
       "      <th>2</th>\n",
       "      <td>Tweedie GLM power 1</td>\n",
       "      <td>240893.922326</td>\n",
       "      <td>0.051778</td>\n",
       "    </tr>\n",
       "    <tr>\n",
       "      <th>3</th>\n",
       "      <td>LassoLars alpha 1</td>\n",
       "      <td>213952.881647</td>\n",
       "      <td>0.252111</td>\n",
       "    </tr>\n",
       "    <tr>\n",
       "      <th>4</th>\n",
       "      <td>PolyReg Model</td>\n",
       "      <td>208428.689304</td>\n",
       "      <td>0.290149</td>\n",
       "    </tr>\n",
       "  </tbody>\n",
       "</table></div>"
      ],
      "text/plain": [
       "                 model  rmse_outofsample  r^2_outofsample\n",
       "0        mean_baseline     247383.703403         0.000000\n",
       "1               OLS lm     213948.610391         0.252141\n",
       "2  Tweedie GLM power 1     240893.922326         0.051778\n",
       "3    LassoLars alpha 1     213952.881647         0.252111\n",
       "4        PolyReg Model     208428.689304         0.290149"
      ]
     },
     "execution_count": 28,
     "metadata": {},
     "output_type": "execute_result"
    }
   ],
   "source": [
    "# add model to metric df\n",
    "metric_df = metric_df.append(\n",
    "    {\n",
    "    'model': 'PolyReg Model',\n",
    "    'rmse_outofsample': rmse_validate,\n",
    "    'r^2_outofsample': explained_variance_score(y_validate.tax_value, y_validate.tv_pred_pm)}, ignore_index=True)\n",
    "metric_df"
   ]
  },
  {
   "cell_type": "markdown",
   "id": "3b39a781-d596-4777-a7ee-9704857af0f3",
   "metadata": {},
   "source": [
    "### Tweedie is very close to estimating the baseline. This is a good sign, and makes it our best model. \n",
    "Let's test it. Put it to the test. \n",
    "\n",
    "                                                        compare it to test. \n",
    "Literally. Well, almost literally. "
   ]
  },
  {
   "cell_type": "code",
   "execution_count": 29,
   "id": "981fdb55-28fb-4589-9847-43851745d413",
   "metadata": {},
   "outputs": [
    {
     "ename": "NameError",
     "evalue": "name 'X_test_degree2' is not defined",
     "output_type": "error",
     "traceback": [
      "\u001b[0;31m---------------------------------------------------------------------------\u001b[0m",
      "\u001b[0;31mNameError\u001b[0m                                 Traceback (most recent call last)",
      "\u001b[0;32m/var/folders/qn/sd1_3x2j4196db03067vql600000gn/T/ipykernel_49659/2654700124.py\u001b[0m in \u001b[0;36m<module>\u001b[0;34m\u001b[0m\n\u001b[1;32m      1\u001b[0m \u001b[0;31m# Fit best performing model on TestSplit\u001b[0m\u001b[0;34m\u001b[0m\u001b[0;34m\u001b[0m\u001b[0m\n\u001b[1;32m      2\u001b[0m \u001b[0;31m# predict on test\u001b[0m\u001b[0;34m\u001b[0m\u001b[0;34m\u001b[0m\u001b[0m\n\u001b[0;32m----> 3\u001b[0;31m \u001b[0my_test\u001b[0m\u001b[0;34m[\u001b[0m\u001b[0;34m'tv_pred_pm'\u001b[0m\u001b[0;34m]\u001b[0m \u001b[0;34m=\u001b[0m \u001b[0mpm\u001b[0m\u001b[0;34m.\u001b[0m\u001b[0mpredict\u001b[0m\u001b[0;34m(\u001b[0m\u001b[0mX_test_degree2\u001b[0m\u001b[0;34m)\u001b[0m\u001b[0;34m\u001b[0m\u001b[0;34m\u001b[0m\u001b[0m\n\u001b[0m\u001b[1;32m      4\u001b[0m \u001b[0;34m\u001b[0m\u001b[0m\n\u001b[1;32m      5\u001b[0m \u001b[0;31m# evaluate: rmse\u001b[0m\u001b[0;34m\u001b[0m\u001b[0;34m\u001b[0m\u001b[0m\n",
      "\u001b[0;31mNameError\u001b[0m: name 'X_test_degree2' is not defined"
     ]
    }
   ],
   "source": [
    "# Fit best performing model on TestSplit\n",
    "# predict on test\n",
    "y_test['tv_pred_pm'] = pm.predict(X_test_degree2)\n",
    "\n",
    "# evaluate: rmse\n",
    "rmse_test = mean_squared_error(y_test.tax_value, y_test.tv_pred_pm) ** (1/2)\n",
    "print(\"RMSE for Model using PolynomialRegression\\nOut-of-Sample Performance: \", rmse_test)"
   ]
  },
  {
   "cell_type": "code",
   "execution_count": null,
   "id": "29719794-c073-4a7f-94cb-2b200f959bb3",
   "metadata": {},
   "outputs": [],
   "source": [
    "metric_df = metric_df.append(\n",
    "    {\n",
    "    'model': 'Test',\n",
    "    'rmse_outofsample': rmse_test,\n",
    "    'r^2_outofsample': explained_variance_score(y_test.tax_value, y_test.tv_pred_glm)}, ignore_index=True)"
   ]
  },
  {
   "cell_type": "code",
   "execution_count": null,
   "id": "d0c1b6ac-90bb-4960-8d74-32ba64c0567a",
   "metadata": {},
   "outputs": [],
   "source": [
    "metric_df"
   ]
  },
  {
   "cell_type": "code",
   "execution_count": null,
   "id": "da9b253a-d673-4a40-8764-3d1cadab5433",
   "metadata": {},
   "outputs": [],
   "source": [
    "print(f'Baseline Minus Validate RMSE: =')\n",
    "247383.70 - 240893.92"
   ]
  },
  {
   "cell_type": "code",
   "execution_count": null,
   "id": "c4efc5f0-45ce-4ed8-a464-7b1a0cd8ed3f",
   "metadata": {},
   "outputs": [],
   "source": [
    "print(f'Baseline Minus Test RMSE: =') \n",
    "247383.70 - 238717.40"
   ]
  },
  {
   "cell_type": "markdown",
   "id": "b9069862-ff1e-4391-b210-9a126c31aab3",
   "metadata": {},
   "source": [
    "### Test outperforms the baseline. \n",
    "But it's also outperformed ever so slightly by validate's out of sample performance. \n",
    "At present I do not know the implications of this. But it would seem as though validate is accurate in this instance. Let's go over what this really means, at least to someone who knows little about regression at present. \n",
    "\n",
    "Among a sample of homes where so much money is at stake, a 200 grand difference can be cause for celebration or another step closer to financial ruin, depending on the efficacy of the model. Both underestimating and overestimating run unique risks. Overestimates can dissuade buys from even considering the home, if it is in a tax bracket and range far beyond what is reasonable to them. Underpaying can be great for purchasing homes, but as for selling, not at all. "
   ]
  },
  {
   "cell_type": "markdown",
   "id": "f460879f-d05d-4768-8447-5c851c482e69",
   "metadata": {},
   "source": [
    "### At Day's End:\n",
    "\n",
    "We were very close to estimating the home value based on how test compares to the baseline, but I don't know if I am interpreting the goal correctly. If not, Polynomial is the best pick. \n",
    "If I am correct in assessing the assessed value, use the model and let's improve upon it.\n",
    "If I completely missed the point, have mercy on my soul. \n",
    "\n",
    "### Given more time. \n",
    "\n",
    "I would probably not panic as much, would better understand my role as a new zillow employee, and would probably not obsess over reading about the matters outside of the project. \n",
    "\n",
    "Please don't fire me. \n",
    "\n",
    "Regards,\n",
    "\n",
    "Nicholas Dougherty"
   ]
  },
  {
   "cell_type": "code",
   "execution_count": null,
   "id": "b0152be0-7c97-4880-a928-df800afe1054",
   "metadata": {},
   "outputs": [],
   "source": []
  }
 ],
 "metadata": {
  "kernelspec": {
   "display_name": "Python 3 (ipykernel)",
   "language": "python",
   "name": "python3"
  },
  "language_info": {
   "codemirror_mode": {
    "name": "ipython",
    "version": 3
   },
   "file_extension": ".py",
   "mimetype": "text/x-python",
   "name": "python",
   "nbconvert_exporter": "python",
   "pygments_lexer": "ipython3",
   "version": "3.9.7"
  }
 },
 "nbformat": 4,
 "nbformat_minor": 5
}
