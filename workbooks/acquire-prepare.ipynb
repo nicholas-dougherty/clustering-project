{
 "cells": [
  {
   "cell_type": "code",
   "execution_count": null,
   "id": "6db7738e-1725-449e-855a-7fae9e8c19fc",
   "metadata": {},
   "outputs": [],
   "source": [
    "import wrangle as w \n",
    "import os \n",
    "from env import get_db_url\n",
    "\n",
    "import pandas as pd \n",
    "import numpy as np\n",
    "\n",
    "from collections import Counter\n",
    "\n",
    "from sklearn.model_selection import train_test_split\n",
    "\n",
    "from datetime import date\n",
    "\n",
    "import matplotlib.pyplot as plt\n",
    "import seaborn as sns\n",
    "\n",
    "# feature selection imports\n",
    "from sklearn.feature_selection import SelectKBest, f_regression\n",
    "from sklearn.feature_selection import RFE\n",
    "from sklearn.model_selection import train_test_split\n",
    "\n",
    "# import scaling methods\n",
    "from sklearn.preprocessing import MinMaxScaler, RobustScaler, StandardScaler, QuantileTransformer\n",
    "from scipy import stats\n",
    "\n",
    "# import modeling methods\n",
    "from sklearn.metrics import mean_squared_error\n",
    "from sklearn.linear_model import LinearRegression, LassoLars, TweedieRegressor\n",
    "from sklearn.preprocessing import PolynomialFeatures\n",
    "from sklearn.metrics import explained_variance_score\n",
    "\n",
    "\n"
   ]
  },
  {
   "cell_type": "code",
   "execution_count": 8,
   "id": "42d4cb05-6380-4391-b3f5-02506f2e84e5",
   "metadata": {},
   "outputs": [],
   "source": [
    "# I've already prepared all this in the lesson. \n",
    "def acquire_zillow_data(use_cache=True):\n",
    "    '''\n",
    "    This function returns a snippet of zillow's database as a Pandas DataFrame. \n",
    "    When this SQL data is cached and extant in the os directory path, return the data as read into a df. \n",
    "    If csv is unavailable, aquisition proceeds regardless,\n",
    "    reading the queried database elements into a dataframe, creating a cached csv file\n",
    "    and lastly returning the dataframe for some sweet data science perusal.\n",
    "    '''\n",
    "\n",
    "    # If the cached parameter is True, read the csv file on disk in the same folder as this file \n",
    "    if os.path.exists('zillow.csv') and use_cache:\n",
    "        print('Using cached CSV')\n",
    "        return pd.read_csv('zillow.csv', dtype={'buildingclassdesc': 'str', 'propertyzoningdesc': 'str'})\n",
    "\n",
    "    # When there's no cached csv, read the following query from Codeup's SQL database.\n",
    "    print('CSV not detected.')\n",
    "    print('Acquiring data from SQL database instead.')\n",
    "    df = pd.read_sql(\n",
    "        '''\n",
    " SELECT\n",
    "    prop.*,\n",
    "    predictions_2017.logerror,\n",
    "    predictions_2017.transactiondate,\n",
    "    air.airconditioningdesc,\n",
    "    arch.architecturalstyledesc,\n",
    "    build.buildingclassdesc,\n",
    "    heat.heatingorsystemdesc,\n",
    "    landuse.propertylandusedesc,\n",
    "    story.storydesc,\n",
    "    construct.typeconstructiondesc\n",
    "FROM properties_2017 prop\n",
    "JOIN (\n",
    "    SELECT parcelid, MAX(transactiondate) AS max_transactiondate\n",
    "    FROM predictions_2017\n",
    "    GROUP BY parcelid\n",
    ") pred USING(parcelid)\n",
    "JOIN predictions_2017 ON pred.parcelid = predictions_2017.parcelid\n",
    "                      AND pred.max_transactiondate = predictions_2017.transactiondate\n",
    "LEFT JOIN airconditioningtype air USING (airconditioningtypeid)\n",
    "LEFT JOIN architecturalstyletype arch USING (architecturalstyletypeid)\n",
    "LEFT JOIN buildingclasstype build USING (buildingclasstypeid)\n",
    "LEFT JOIN heatingorsystemtype heat USING (heatingorsystemtypeid)\n",
    "LEFT JOIN propertylandusetype landuse USING (propertylandusetypeid)\n",
    "LEFT JOIN storytype story USING (storytypeid)\n",
    "LEFT JOIN typeconstructiontype construct USING (typeconstructiontypeid)\n",
    "WHERE prop.latitude IS NOT NULL\n",
    "  AND prop.longitude IS NOT NULL\n",
    "  AND transactiondate <= '2017-12-31';             \n",
    "        '''\n",
    "                    , get_db_url('zillow'))\n",
    "    \n",
    "    df.propertyzoningdesc.astype(str)\n",
    "    \n",
    "    \n",
    "    print('Acquisition Complete. Dataframe available and is now cached for future use.')\n",
    "    # create a csv of the dataframe for the sake of efficiency. \n",
    "    df.to_csv('zillow.csv', index=False)\n",
    "    \n",
    "    return df"
   ]
  },
  {
   "cell_type": "code",
   "execution_count": 9,
   "id": "9ce148cc-57f0-44c0-949c-fc9b4445d26b",
   "metadata": {},
   "outputs": [
    {
     "name": "stdout",
     "output_type": "stream",
     "text": [
      "Using cached CSV\n"
     ]
    }
   ],
   "source": [
    "dirty_df = acquire_zillow_data()"
   ]
  },
  {
   "cell_type": "code",
   "execution_count": 10,
   "id": "01e8335d-27af-4b54-b790-2f5015c46da0",
   "metadata": {},
   "outputs": [],
   "source": [
    "def remove_columns(df, cols_to_remove):\n",
    "    '''\n",
    "    This function takes in a pandas dataframe and a list of columns to remove. It drops those columns from the original df and returns the df.\n",
    "    '''\n",
    "    df = df.drop(columns=cols_to_remove)\n",
    "    return df\n",
    "                 \n",
    "                 \n",
    "def handle_missing_values(df, prop_required_column=0.5 , prop_required_row=0.5):\n",
    "    '''\n",
    "    This function takes in a pandas dataframe, default proportion of required columns (set to 50%) and proprtion of required rows (set to 75%).\n",
    "    It drops any rows or columns that contain null values more than the threshold specified from the original dataframe and returns that dataframe.\n",
    "    \n",
    "    Prior to returning that data, it will print statistics and list counts/names of removed columns/row counts \n",
    "    '''\n",
    "    original_cols = df.columns.to_list()\n",
    "    original_rows = df.shape[0]\n",
    "    threshold = int(round(prop_required_column * len(df.index), 0))\n",
    "    df = df.dropna(axis=1, thresh=threshold)\n",
    "    threshold = int(round(prop_required_row * len(df.columns), 0))\n",
    "    df = df.dropna(axis=0, thresh=threshold)\n",
    "    remaining_cols = df.columns.to_list()\n",
    "    remaining_rows = df.shape[0]\n",
    "    dropped_col_count = len(original_cols) - len(remaining_cols)\n",
    "    dropped_cols = list((Counter(original_cols) - Counter(remaining_cols)).elements())\n",
    "    print(f'The following {dropped_col_count} columns were dropped because they were missing more than {prop_required_column * 100}% of data: \\n{dropped_cols}\\n')\n",
    "    dropped_rows = original_rows - remaining_rows\n",
    "    print(f'{dropped_rows} rows were dropped because they were missing more than {prop_required_row * 100}% of data')\n",
    "    return df\n",
    "\n",
    "# combined in one function\n",
    "def data_prep(df, cols_to_remove=[], prop_required_column=0.5, prop_required_row=0.5):\n",
    "    '''\n",
    "    This function calls the remove_columns and handle_missing_values to drop columns that need to be removed. It also drops rows and columns that have more \n",
    "    missing values than the specified threshold.\n",
    "    '''\n",
    "    df = remove_columns(df, cols_to_remove)\n",
    "    df = handle_missing_values(df, prop_required_column, prop_required_row)\n",
    "    return df\n",
    "\n",
    "def remove_outliers(df, k, col_list):\n",
    "    ''' remove outliers from a list of columns in a dataframe \n",
    "        and return that dataframe\n",
    "    '''\n",
    "    \n",
    "    for col in col_list:\n",
    "        # get quartiles\n",
    "        q1, q3 = df[f'{col}'].quantile([.25, .75])  \n",
    "        # calculate interquartile range\n",
    "        iqr = q3 - q1   \n",
    "        # get upper bound\n",
    "        upper_bound = q3 + k * iqr \n",
    "        # get lower bound\n",
    "        lower_bound = q1 - k * iqr   \n",
    "\n",
    "        # return dataframe without outliers\n",
    "        \n",
    "        df = df[(df[f'{col}'] > lower_bound) & (df[f'{col}'] < upper_bound)]\n",
    "        \n",
    "    return df"
   ]
  },
  {
   "cell_type": "code",
   "execution_count": 11,
   "id": "f256814b-034c-48aa-bc76-bedee210e353",
   "metadata": {},
   "outputs": [],
   "source": [
    "def prep_zillow(df):\n",
    "    \n",
    "    df = data_prep(df)\n",
    "    \n",
    "    df = df[(df.propertylandusedesc == 'Single Family Residential') |\n",
    "      (df.propertylandusedesc == 'Mobile Home') |\n",
    "      (df.propertylandusedesc == 'Manufactured, Modular, Prefabricated Homes') |\n",
    "      (df.propertylandusedesc == 'Cluster Home')]\n",
    "    \n",
    "    # Remove properties that couldn't even plausibly be a studio. \n",
    "    df= df[(df.bedroomcnt > 0) & (df.bathroomcnt > 0)]\n",
    "    \n",
    "    # Remove properties where there is not a single bathroom.\n",
    "    df = df[df.bathroomcnt > 0]\n",
    "    \n",
    " # keep only properties with square footage greater than 70 (legal size of a bedroom)\n",
    "    df = df[df.calculatedfinishedsquarefeet > 70]\n",
    "    \n",
    "    # Minimum lot size of single family units.\n",
    "    df = df[df.lotsizesquarefeet >= 5000].copy()\n",
    "    \n",
    "    \n",
    "    \n",
    "    #df = df[~df['propertylandusetypeid'].isin([263, 265, 275])]\n",
    "    \n",
    "    # Clear indicators of single unit family. Other codes non-existent or indicate commercial sites. \n",
    "   # 0100 - Single Residence\n",
    "   # 0101 Single residence with pool\n",
    "   # 0104 - Single resident with therapy pool \n",
    "    df = df[(df.propertycountylandusecode == '0100') |\n",
    "            (df.propertycountylandusecode == '0101') |\n",
    "            (df.propertycountylandusecode == '0104') |\n",
    "            (df.propertycountylandusecode == '122') | \n",
    "            (df.propertycountylandusecode == '1111') |\n",
    "            (df.propertycountylandusecode == '1110') |\n",
    "            (df.propertycountylandusecode == '1')\n",
    "           ]\n",
    "    \n",
    "    \n",
    "    # Remove 13 rows where unit count is 2. The NaN's can be safely assumed as 1 and were just mislabeled in other counties.  \n",
    "    df = df[df['unitcnt'] != 2]\n",
    "    df['unitcnt'].fillna(1)\n",
    "    \n",
    "    \n",
    "    # Property where finished area is 152 but bed count is 5. \n",
    "    df = df.drop(labels=75325, axis=0)\n",
    "    \n",
    "      \n",
    "            \n",
    "    # Redudant columns or uninterpretable columns\n",
    "    # Unit count was dropped because now its known that theyre all 1. \n",
    "    # Finished square feet is equal to calculated sq feet. \n",
    "    # full bathcnt and calculatedbathnbr are equal to bathroomcnt\n",
    "    # property zoning desc is unreadable. \n",
    "    # assessment year is unnecessary, all values are 2016. \n",
    "    # property land use desc is always single family residence \n",
    "    # same with property landuse type id. \n",
    "    # room count must be for a different category, as it is always 0.\n",
    "    # regionidcounty reveals the same information as FIPS. \n",
    "    # heatingorsystemtypeid is redundant. Encoded descr. \n",
    "    # Id does nothing, and parcelid is easier to represent. \n",
    "\n",
    "    \n",
    "    df =df.drop(columns= ['finishedsquarefeet12', 'fullbathcnt', 'calculatedbathnbr',\n",
    "                      'propertyzoningdesc', 'unitcnt', 'propertylandusedesc',\n",
    "                      'assessmentyear', 'roomcnt', 'regionidcounty', 'propertylandusetypeid',\n",
    "                      'heatingorsystemtypeid', 'id', 'heatingorsystemdesc', 'buildingqualitytypeid'],\n",
    "            axis=1)\n",
    "    \n",
    "    \n",
    "    # The last nulls can be dropped altogether. \n",
    "    df = df.dropna()\n",
    " \n",
    "\n",
    "    df['yearbuilt'] = df['yearbuilt'].astype(int)\n",
    "    df.yearbuilt = df.yearbuilt.astype(object) \n",
    "    df['age'] = 2017-df['yearbuilt']\n",
    "    df = df.drop(columns='yearbuilt')\n",
    "    df['age'] = df['age'].astype('int')\n",
    "    print('Yearbuilt converted to age. \\n')\n",
    "    \n",
    "    # Removing problematic outlier groups.  \n",
    "    df = remove_outliers(df, 3, ['lotsizesquarefeet', 'structuretaxvaluedollarcnt', 'taxvaluedollarcnt',\n",
    "                                'landtaxvaluedollarcnt', 'taxamount', 'calculatedfinishedsquarefeet'])\n",
    "    \n",
    "    df = df.set_index('parcelid')\n",
    "    \n",
    "    return df\n",
    "\n"
   ]
  },
  {
   "cell_type": "code",
   "execution_count": 12,
   "id": "62ba7da4-aead-4a6f-becd-14ae180ad141",
   "metadata": {},
   "outputs": [],
   "source": [
    "def nulls_by_col(df):\n",
    "    '''\n",
    "    This function  takes in a dataframe of observations and attributes(or columns) and returns a dataframe where each row is an atttribute name, the first column is the \n",
    "    number of rows with missing values for that attribute, and the second column is percent of total rows that have missing values for that attribute.\n",
    "    '''\n",
    "    num_missing = df.isnull().sum()\n",
    "    rows = df.shape[0]\n",
    "    prcnt_miss = (num_missing / rows * 100)\n",
    "    cols_missing = pd.DataFrame({'num_rows_missing': num_missing, \n",
    "                                 'percent_rows_missing': prcnt_miss})\\\n",
    "    .sort_values(by='percent_rows_missing', ascending=False)\n",
    "    return cols_missing.applymap(lambda x: f\"{x:0.1f}\")\n",
    "\n",
    "def nulls_by_row(df):\n",
    "    '''\n",
    "    This function takes in a dataframe and returns a dataframe with 3 columns: the number of columns missing, percent of columns missing, \n",
    "    and number of rows with n columns missing.\n",
    "    '''\n",
    "    num_missing = df.isnull().sum(axis = 1)\n",
    "    prcnt_miss = (num_missing / df.shape[1] * 100)\n",
    "    rows_missing = pd.DataFrame({'num_cols_missing': num_missing, \n",
    "                                 'percent_cols_missing': prcnt_miss})\\\n",
    "    .reset_index()\\\n",
    "    .groupby(['num_cols_missing', 'percent_cols_missing']).count()\\\n",
    "    .rename(index=str, columns={'index': 'num_rows'}).reset_index().set_index('num_cols_missing')\\\n",
    "    .sort_values(by='percent_cols_missing', ascending=False)\n",
    "    return rows_missing\n",
    "\n",
    "def describe_data(df):\n",
    "    '''\n",
    "    This function takes in a pandas dataframe and prints out the shape, datatypes, number of missing values, \n",
    "    columns and their data types, summary statistics of numeric columns in the dataframe, as well as the value counts for categorical variables.\n",
    "    '''\n",
    "    # Print out the \"shape\" of our dataframe - rows and columns\n",
    "    print(f'This dataframe has {df.shape[0]} rows and {df.shape[1]} columns.')\n",
    "    print('')\n",
    "    print('--------------------------------------')\n",
    "    print('--------------------------------------')\n",
    "    \n",
    "    # print the datatypes and column names with non-null counts\n",
    "    print(df.info())\n",
    "    print('')\n",
    "    print('--------------------------------------')\n",
    "    print('--------------------------------------')\n",
    "    \n",
    "    \n",
    "    # print out summary stats for our dataset\n",
    "    print('Here are the summary statistics of our dataset')\n",
    "    print(df.describe().applymap(lambda x: f\"{x:0.3f}\"))\n",
    "    print('')\n",
    "    print('--------------------------------------')\n",
    "    print('--------------------------------------')\n",
    "\n",
    "    # print the number of missing values per column and the total\n",
    "    print('Null Values by Column: ')\n",
    "    missing_total = df.isnull().sum().sum()\n",
    "    missing_count = df.isnull().sum() # the count of missing values\n",
    "    value_count = df.isnull().count() # the count of all values\n",
    "    missing_percentage = round(missing_count / value_count * 100, 2) # percentage of missing values\n",
    "    missing_df = pd.DataFrame({'count': missing_count, 'percentage': missing_percentage})\\\n",
    "    .sort_values(by='percentage', ascending=False)\n",
    "    \n",
    "    print(missing_df.head(50))\n",
    "    print(f' \\n Total Number of Missing Values: {missing_total} \\n')\n",
    "    df_total = df.shape[0] * df.shape[1]\n",
    "    proportion_of_nulls = round((missing_total / df_total), 4)\n",
    "    print(f' Proportion of Nulls in Dataframe: {proportion_of_nulls}\\n') \n",
    "    print('--------------------------------------')\n",
    "    print('--------------------------------------')\n",
    "    \n",
    "    print('Row-by-Row Nulls')\n",
    "    print(nulls_by_row(df))\n",
    "    print('----------------------')\n",
    "    \n",
    "    print('Relative Frequencies: \\n')\n",
    "    ## Display top 5 values of each variable within reasonable limit\n",
    "    limit = 25\n",
    "    for col in df.columns:\n",
    "        if df[col].nunique() < limit:\n",
    "            print(f'Column: {col} \\n {round(df[col].value_counts(normalize=True).nlargest(5), 3)} \\n')\n",
    "        else: \n",
    "            print(f'Column: {col} \\n')\n",
    "            print(f'Range of Values: [{df[col].min()} - {df[col].max()}] \\n')\n",
    "        print('------------------------------------------')\n",
    "        print('--------------------------------------')"
   ]
  },
  {
   "cell_type": "markdown",
   "id": "8bfcaa44-c75e-411c-934f-5b5b1826b566",
   "metadata": {},
   "source": [
    "Justifications for these removals listed below. Copied from previous notebooks located in the clustering-exercises repository"
   ]
  },
  {
   "cell_type": "code",
   "execution_count": 16,
   "id": "2cabe0f5-1d00-4205-bd29-c26551b748a8",
   "metadata": {},
   "outputs": [
    {
     "name": "stdout",
     "output_type": "stream",
     "text": [
      "This dataframe has 77380 rows and 68 columns.\n",
      "\n",
      "--------------------------------------\n",
      "--------------------------------------\n",
      "<class 'pandas.core.frame.DataFrame'>\n",
      "RangeIndex: 77380 entries, 0 to 77379\n",
      "Data columns (total 68 columns):\n",
      " #   Column                        Non-Null Count  Dtype  \n",
      "---  ------                        --------------  -----  \n",
      " 0   id                            77380 non-null  int64  \n",
      " 1   parcelid                      77380 non-null  int64  \n",
      " 2   airconditioningtypeid         24953 non-null  float64\n",
      " 3   architecturalstyletypeid      206 non-null    float64\n",
      " 4   basementsqft                  50 non-null     float64\n",
      " 5   bathroomcnt                   77380 non-null  float64\n",
      " 6   bedroomcnt                    77380 non-null  float64\n",
      " 7   buildingclasstypeid           15 non-null     float64\n",
      " 8   buildingqualitytypeid         49671 non-null  float64\n",
      " 9   calculatedbathnbr             76771 non-null  float64\n",
      " 10  decktypeid                    614 non-null    float64\n",
      " 11  finishedfloor1squarefeet      6023 non-null   float64\n",
      " 12  calculatedfinishedsquarefeet  77184 non-null  float64\n",
      " 13  finishedsquarefeet12          73748 non-null  float64\n",
      " 14  finishedsquarefeet13          41 non-null     float64\n",
      " 15  finishedsquarefeet15          3009 non-null   float64\n",
      " 16  finishedsquarefeet50          6023 non-null   float64\n",
      " 17  finishedsquarefeet6           386 non-null    float64\n",
      " 18  fips                          77380 non-null  float64\n",
      " 19  fireplacecnt                  8276 non-null   float64\n",
      " 20  fullbathcnt                   76771 non-null  float64\n",
      " 21  garagecarcnt                  25474 non-null  float64\n",
      " 22  garagetotalsqft               25474 non-null  float64\n",
      " 23  hashottuborspa                1538 non-null   float64\n",
      " 24  heatingorsystemtypeid         49439 non-null  float64\n",
      " 25  latitude                      77380 non-null  float64\n",
      " 26  longitude                     77380 non-null  float64\n",
      " 27  lotsizesquarefeet             69141 non-null  float64\n",
      " 28  poolcnt                       16137 non-null  float64\n",
      " 29  poolsizesum                   867 non-null    float64\n",
      " 30  pooltypeid10                  464 non-null    float64\n",
      " 31  pooltypeid2                   1074 non-null   float64\n",
      " 32  pooltypeid7                   15042 non-null  float64\n",
      " 33  propertycountylandusecode     77380 non-null  object \n",
      " 34  propertylandusetypeid         77380 non-null  float64\n",
      " 35  propertyzoningdesc            50330 non-null  object \n",
      " 36  rawcensustractandblock        77380 non-null  float64\n",
      " 37  regionidcity                  75909 non-null  float64\n",
      " 38  regionidcounty                77380 non-null  float64\n",
      " 39  regionidneighborhood          30890 non-null  float64\n",
      " 40  regionidzip                   77330 non-null  float64\n",
      " 41  roomcnt                       77380 non-null  float64\n",
      " 42  storytypeid                   50 non-null     float64\n",
      " 43  threequarterbathnbr           10096 non-null  float64\n",
      " 44  typeconstructiontypeid        222 non-null    float64\n",
      " 45  unitcnt                       50562 non-null  float64\n",
      " 46  yardbuildingsqft17            2388 non-null   float64\n",
      " 47  yardbuildingsqft26            70 non-null     float64\n",
      " 48  yearbuilt                     77117 non-null  float64\n",
      " 49  numberofstories               17560 non-null  float64\n",
      " 50  fireplaceflag                 172 non-null    float64\n",
      " 51  structuretaxvaluedollarcnt    77268 non-null  float64\n",
      " 52  taxvaluedollarcnt             77379 non-null  float64\n",
      " 53  assessmentyear                77380 non-null  float64\n",
      " 54  landtaxvaluedollarcnt         77378 non-null  float64\n",
      " 55  taxamount                     77375 non-null  float64\n",
      " 56  taxdelinquencyflag            2886 non-null   object \n",
      " 57  taxdelinquencyyear            2886 non-null   float64\n",
      " 58  censustractandblock           77136 non-null  float64\n",
      " 59  logerror                      77380 non-null  float64\n",
      " 60  transactiondate               77380 non-null  object \n",
      " 61  airconditioningdesc           24953 non-null  object \n",
      " 62  architecturalstyledesc        206 non-null    object \n",
      " 63  buildingclassdesc             15 non-null     object \n",
      " 64  heatingorsystemdesc           49439 non-null  object \n",
      " 65  propertylandusedesc           77380 non-null  object \n",
      " 66  storydesc                     50 non-null     object \n",
      " 67  typeconstructiondesc          222 non-null    object \n",
      "dtypes: float64(55), int64(2), object(11)\n",
      "memory usage: 40.1+ MB\n",
      "None\n",
      "\n",
      "--------------------------------------\n",
      "--------------------------------------\n",
      "Here are the summary statistics of our dataset\n",
      "                id       parcelid airconditioningtypeid  \\\n",
      "count    77380.000      77380.000             24953.000   \n",
      "mean   1495126.488   13007149.516                 1.813   \n",
      "std     860905.692    3481368.132                 2.968   \n",
      "min        349.000   10711855.000                 1.000   \n",
      "25%     752050.000   11538296.750                 1.000   \n",
      "50%    1497870.000   12531548.500                 1.000   \n",
      "75%    2240480.250   14211843.750                 1.000   \n",
      "max    2982274.000  167689317.000                13.000   \n",
      "\n",
      "      architecturalstyletypeid basementsqft bathroomcnt bedroomcnt  \\\n",
      "count                  206.000       50.000   77380.000  77380.000   \n",
      "mean                     7.388      679.720       2.299      3.053   \n",
      "std                      2.735      689.704       0.997      1.139   \n",
      "min                      2.000       38.000       0.000      0.000   \n",
      "25%                      7.000      273.000       2.000      2.000   \n",
      "50%                      7.000      515.000       2.000      3.000   \n",
      "75%                      7.000      796.500       3.000      4.000   \n",
      "max                     21.000     3560.000      18.000     16.000   \n",
      "\n",
      "      buildingclasstypeid buildingqualitytypeid calculatedbathnbr  ...  \\\n",
      "count              15.000             49671.000         76771.000  ...   \n",
      "mean                3.933                 6.535             2.317  ...   \n",
      "std                 0.258                 1.722             0.980  ...   \n",
      "min                 3.000                 1.000             1.000  ...   \n",
      "25%                 4.000                 6.000             2.000  ...   \n",
      "50%                 4.000                 6.000             2.000  ...   \n",
      "75%                 4.000                 8.000             3.000  ...   \n",
      "max                 4.000                12.000            18.000  ...   \n",
      "\n",
      "      numberofstories fireplaceflag structuretaxvaluedollarcnt  \\\n",
      "count       17560.000       172.000                  77268.000   \n",
      "mean            1.435         1.000                 189315.983   \n",
      "std             0.545         0.000                 230088.557   \n",
      "min             1.000         1.000                     44.000   \n",
      "25%             1.000         1.000                  84265.000   \n",
      "50%             1.000         1.000                 136499.500   \n",
      "75%             2.000         1.000                 218787.500   \n",
      "max             6.000         1.000               11421790.000   \n",
      "\n",
      "      taxvaluedollarcnt assessmentyear landtaxvaluedollarcnt   taxamount  \\\n",
      "count         77379.000      77380.000             77378.000   77375.000   \n",
      "mean         490137.463       2016.000            301096.944    5995.567   \n",
      "std          653447.667          0.000            492599.029    7622.887   \n",
      "min            1000.000       2016.000               161.000      19.920   \n",
      "25%          207000.000       2016.000             85504.000    2715.585   \n",
      "50%          358976.000       2016.000            203383.500    4450.720   \n",
      "75%          569003.000       2016.000            366802.250    6927.800   \n",
      "max        49061236.000       2016.000          48952198.000  586639.300   \n",
      "\n",
      "      taxdelinquencyyear  censustractandblock   logerror  \n",
      "count           2886.000            77136.000  77380.000  \n",
      "mean              14.087   60496735236341.992      0.017  \n",
      "std                2.186    1535251869244.564      0.170  \n",
      "min                3.000   60371011101000.000     -4.655  \n",
      "25%               14.000   60373109005001.750     -0.024  \n",
      "50%               15.000   60376032003008.000      0.007  \n",
      "75%               15.000   60590423251008.000      0.039  \n",
      "max               99.000  483030105084015.000      5.263  \n",
      "\n",
      "[8 rows x 57 columns]\n",
      "\n",
      "--------------------------------------\n",
      "--------------------------------------\n",
      "Null Values by Column: \n",
      "                              count  percentage\n",
      "buildingclassdesc             77365       99.98\n",
      "buildingclasstypeid           77365       99.98\n",
      "finishedsquarefeet13          77339       99.95\n",
      "storytypeid                   77330       99.94\n",
      "basementsqft                  77330       99.94\n",
      "storydesc                     77330       99.94\n",
      "yardbuildingsqft26            77310       99.91\n",
      "fireplaceflag                 77208       99.78\n",
      "architecturalstyletypeid      77174       99.73\n",
      "architecturalstyledesc        77174       99.73\n",
      "typeconstructiondesc          77158       99.71\n",
      "typeconstructiontypeid        77158       99.71\n",
      "finishedsquarefeet6           76994       99.50\n",
      "pooltypeid10                  76916       99.40\n",
      "decktypeid                    76766       99.21\n",
      "poolsizesum                   76513       98.88\n",
      "pooltypeid2                   76306       98.61\n",
      "hashottuborspa                75842       98.01\n",
      "yardbuildingsqft17            74992       96.91\n",
      "taxdelinquencyyear            74494       96.27\n",
      "taxdelinquencyflag            74494       96.27\n",
      "finishedsquarefeet15          74371       96.11\n",
      "finishedsquarefeet50          71357       92.22\n",
      "finishedfloor1squarefeet      71357       92.22\n",
      "fireplacecnt                  69104       89.30\n",
      "threequarterbathnbr           67284       86.95\n",
      "pooltypeid7                   62338       80.56\n",
      "poolcnt                       61243       79.15\n",
      "numberofstories               59820       77.31\n",
      "airconditioningdesc           52427       67.75\n",
      "airconditioningtypeid         52427       67.75\n",
      "garagecarcnt                  51906       67.08\n",
      "garagetotalsqft               51906       67.08\n",
      "regionidneighborhood          46490       60.08\n",
      "heatingorsystemtypeid         27941       36.11\n",
      "heatingorsystemdesc           27941       36.11\n",
      "buildingqualitytypeid         27709       35.81\n",
      "propertyzoningdesc            27050       34.96\n",
      "unitcnt                       26818       34.66\n",
      "lotsizesquarefeet              8239       10.65\n",
      "finishedsquarefeet12           3632        4.69\n",
      "regionidcity                   1471        1.90\n",
      "fullbathcnt                     609        0.79\n",
      "calculatedbathnbr               609        0.79\n",
      "yearbuilt                       263        0.34\n",
      "censustractandblock             244        0.32\n",
      "calculatedfinishedsquarefeet    196        0.25\n",
      "structuretaxvaluedollarcnt      112        0.14\n",
      "regionidzip                      50        0.06\n",
      "taxamount                         5        0.01\n",
      " \n",
      " Total Number of Missing Values: 2555480 \n",
      "\n",
      " Proportion of Nulls in Dataframe: 0.4857\n",
      "\n",
      "--------------------------------------\n",
      "--------------------------------------\n",
      "Row-by-Row Nulls\n",
      "                 percent_cols_missing  num_rows\n",
      "num_cols_missing                               \n",
      "48                  70.58823529411765         3\n",
      "47                  69.11764705882352         3\n",
      "46                  67.64705882352942         5\n",
      "45                  66.17647058823529        50\n",
      "44                  64.70588235294117        78\n",
      "43                  63.23529411764706        28\n",
      "42                  61.76470588235294        23\n",
      "41                  60.29411764705882        29\n",
      "40                  58.82352941176471       230\n",
      "39                  57.35294117647059       285\n",
      "38                  55.88235294117647      1925\n",
      "37                  54.41176470588235      3620\n",
      "36                  52.94117647058824      5775\n",
      "35                 51.470588235294116      5148\n",
      "34                               50.0     13326\n",
      "33                 48.529411764705884     14782\n",
      "32                  47.05882352941176     12579\n",
      "31                 45.588235294117645      9891\n",
      "30                  44.11764705882353      3455\n",
      "29                  42.64705882352941      5270\n",
      "28                  41.17647058823529       455\n",
      "27                 39.705882352941174       316\n",
      "26                  38.23529411764706        65\n",
      "25                  36.76470588235294        24\n",
      "24                 35.294117647058826        13\n",
      "23                  33.82352941176471         2\n",
      "----------------------\n",
      "Relative Frequencies: \n",
      "\n",
      "Column: id \n",
      "\n",
      "Range of Values: [349 - 2982274] \n",
      "\n",
      "------------------------------------------\n",
      "--------------------------------------\n",
      "Column: parcelid \n",
      "\n",
      "Range of Values: [10711855 - 167689317] \n",
      "\n",
      "------------------------------------------\n",
      "--------------------------------------\n",
      "Column: airconditioningtypeid \n",
      " 1.0     0.927\n",
      "13.0    0.063\n",
      "5.0     0.007\n",
      "11.0    0.002\n",
      "9.0     0.001\n",
      "Name: airconditioningtypeid, dtype: float64 \n",
      "\n",
      "------------------------------------------\n",
      "--------------------------------------\n",
      "Column: architecturalstyletypeid \n",
      " 7.0     0.835\n",
      "8.0     0.092\n",
      "21.0    0.034\n",
      "2.0     0.024\n",
      "3.0     0.015\n",
      "Name: architecturalstyletypeid, dtype: float64 \n",
      "\n",
      "------------------------------------------\n",
      "--------------------------------------\n",
      "Column: basementsqft \n",
      "\n",
      "Range of Values: [38.0 - 3560.0] \n",
      "\n",
      "------------------------------------------\n",
      "--------------------------------------\n",
      "Column: bathroomcnt \n",
      " 2.0    0.407\n",
      "3.0    0.224\n",
      "1.0    0.167\n",
      "2.5    0.085\n",
      "4.0    0.043\n",
      "Name: bathroomcnt, dtype: float64 \n",
      "\n",
      "------------------------------------------\n",
      "--------------------------------------\n",
      "Column: bedroomcnt \n",
      " 3.0    0.392\n",
      "2.0    0.248\n",
      "4.0    0.226\n",
      "5.0    0.059\n",
      "1.0    0.044\n",
      "Name: bedroomcnt, dtype: float64 \n",
      "\n",
      "------------------------------------------\n",
      "--------------------------------------\n",
      "Column: buildingclasstypeid \n",
      " 4.0    0.933\n",
      "3.0    0.067\n",
      "Name: buildingclasstypeid, dtype: float64 \n",
      "\n",
      "------------------------------------------\n",
      "--------------------------------------\n",
      "Column: buildingqualitytypeid \n",
      " 8.0    0.295\n",
      "6.0    0.271\n",
      "4.0    0.191\n",
      "7.0    0.120\n",
      "9.0    0.046\n",
      "Name: buildingqualitytypeid, dtype: float64 \n",
      "\n",
      "------------------------------------------\n",
      "--------------------------------------\n",
      "Column: calculatedbathnbr \n",
      " 2.0    0.410\n",
      "3.0    0.226\n",
      "1.0    0.168\n",
      "2.5    0.086\n",
      "4.0    0.044\n",
      "Name: calculatedbathnbr, dtype: float64 \n",
      "\n",
      "------------------------------------------\n",
      "--------------------------------------\n",
      "Column: decktypeid \n",
      " 66.0    1.0\n",
      "Name: decktypeid, dtype: float64 \n",
      "\n",
      "------------------------------------------\n",
      "--------------------------------------\n",
      "Column: finishedfloor1squarefeet \n",
      "\n",
      "Range of Values: [44.0 - 6912.0] \n",
      "\n",
      "------------------------------------------\n",
      "--------------------------------------\n",
      "Column: calculatedfinishedsquarefeet \n",
      "\n",
      "Range of Values: [128.0 - 35640.0] \n",
      "\n",
      "------------------------------------------\n",
      "--------------------------------------\n",
      "Column: finishedsquarefeet12 \n",
      "\n",
      "Range of Values: [128.0 - 21929.0] \n",
      "\n",
      "------------------------------------------\n",
      "--------------------------------------\n",
      "Column: finishedsquarefeet13 \n",
      " 1440.0    0.439\n",
      "1344.0    0.122\n",
      "1536.0    0.073\n",
      "1488.0    0.073\n",
      "1152.0    0.049\n",
      "Name: finishedsquarefeet13, dtype: float64 \n",
      "\n",
      "------------------------------------------\n",
      "--------------------------------------\n",
      "Column: finishedsquarefeet15 \n",
      "\n",
      "Range of Values: [598.0 - 35640.0] \n",
      "\n",
      "------------------------------------------\n",
      "--------------------------------------\n",
      "Column: finishedsquarefeet50 \n",
      "\n",
      "Range of Values: [44.0 - 12467.0] \n",
      "\n",
      "------------------------------------------\n",
      "--------------------------------------\n",
      "Column: finishedsquarefeet6 \n",
      "\n",
      "Range of Values: [380.0 - 5598.0] \n",
      "\n",
      "------------------------------------------\n",
      "--------------------------------------\n",
      "Column: fips \n",
      " 6037.0    0.653\n",
      "6059.0    0.266\n",
      "6111.0    0.081\n",
      "Name: fips, dtype: float64 \n",
      "\n",
      "------------------------------------------\n",
      "--------------------------------------\n",
      "Column: fireplacecnt \n",
      " 1.0    0.847\n",
      "2.0    0.120\n",
      "3.0    0.028\n",
      "4.0    0.004\n",
      "5.0    0.000\n",
      "Name: fireplacecnt, dtype: float64 \n",
      "\n",
      "------------------------------------------\n",
      "--------------------------------------\n",
      "Column: fullbathcnt \n",
      " 2.0    0.496\n",
      "3.0    0.239\n",
      "1.0    0.186\n",
      "4.0    0.053\n",
      "5.0    0.016\n",
      "Name: fullbathcnt, dtype: float64 \n",
      "\n",
      "------------------------------------------\n",
      "--------------------------------------\n",
      "Column: garagecarcnt \n",
      " 2.0    0.730\n",
      "1.0    0.223\n",
      "3.0    0.025\n",
      "4.0    0.010\n",
      "0.0    0.009\n",
      "Name: garagecarcnt, dtype: float64 \n",
      "\n",
      "------------------------------------------\n",
      "--------------------------------------\n",
      "Column: garagetotalsqft \n",
      "\n",
      "Range of Values: [0.0 - 4251.0] \n",
      "\n",
      "------------------------------------------\n",
      "--------------------------------------\n",
      "Column: hashottuborspa \n",
      " 1.0    1.0\n",
      "Name: hashottuborspa, dtype: float64 \n",
      "\n",
      "------------------------------------------\n",
      "--------------------------------------\n",
      "Column: heatingorsystemtypeid \n",
      " 2.0     0.679\n",
      "7.0     0.284\n",
      "24.0    0.017\n",
      "6.0     0.016\n",
      "20.0    0.002\n",
      "Name: heatingorsystemtypeid, dtype: float64 \n",
      "\n",
      "------------------------------------------\n",
      "--------------------------------------\n",
      "Column: latitude \n",
      "\n",
      "Range of Values: [33339527.0 - 34818767.0] \n",
      "\n",
      "------------------------------------------\n",
      "--------------------------------------\n",
      "Column: longitude \n",
      "\n",
      "Range of Values: [-119475416.0 - -117554636.0] \n",
      "\n",
      "------------------------------------------\n",
      "--------------------------------------\n",
      "Column: lotsizesquarefeet \n",
      "\n",
      "Range of Values: [236.0 - 6971010.0] \n",
      "\n",
      "------------------------------------------\n",
      "--------------------------------------\n",
      "Column: poolcnt \n",
      " 1.0    1.0\n",
      "Name: poolcnt, dtype: float64 \n",
      "\n",
      "------------------------------------------\n",
      "--------------------------------------\n",
      "Column: poolsizesum \n",
      "\n",
      "Range of Values: [24.0 - 1500.0] \n",
      "\n",
      "------------------------------------------\n",
      "--------------------------------------\n",
      "Column: pooltypeid10 \n",
      " 1.0    1.0\n",
      "Name: pooltypeid10, dtype: float64 \n",
      "\n",
      "------------------------------------------\n",
      "--------------------------------------\n",
      "Column: pooltypeid2 \n",
      " 1.0    1.0\n",
      "Name: pooltypeid2, dtype: float64 \n",
      "\n",
      "------------------------------------------\n",
      "--------------------------------------\n",
      "Column: pooltypeid7 \n",
      " 1.0    1.0\n",
      "Name: pooltypeid7, dtype: float64 \n",
      "\n",
      "------------------------------------------\n",
      "--------------------------------------\n",
      "Column: propertycountylandusecode \n",
      "\n",
      "Range of Values: [0100 - 96] \n",
      "\n",
      "------------------------------------------\n",
      "--------------------------------------\n",
      "Column: propertylandusetypeid \n",
      " 261.0    0.676\n",
      "266.0    0.249\n",
      "246.0    0.026\n",
      "269.0    0.025\n",
      "248.0    0.009\n",
      "Name: propertylandusetypeid, dtype: float64 \n",
      "\n",
      "------------------------------------------\n",
      "--------------------------------------\n",
      "Column: propertyzoningdesc \n",
      "\n"
     ]
    },
    {
     "ename": "TypeError",
     "evalue": "'<=' not supported between instances of 'float' and 'str'",
     "output_type": "error",
     "traceback": [
      "\u001b[0;31m---------------------------------------------------------------------------\u001b[0m",
      "\u001b[0;31mTypeError\u001b[0m                                 Traceback (most recent call last)",
      "\u001b[0;32m/var/folders/qn/sd1_3x2j4196db03067vql600000gn/T/ipykernel_7462/3320905860.py\u001b[0m in \u001b[0;36m<module>\u001b[0;34m\u001b[0m\n\u001b[0;32m----> 1\u001b[0;31m \u001b[0mdescribe_data\u001b[0m\u001b[0;34m(\u001b[0m\u001b[0mdirty_df\u001b[0m\u001b[0;34m)\u001b[0m\u001b[0;34m\u001b[0m\u001b[0;34m\u001b[0m\u001b[0m\n\u001b[0m",
      "\u001b[0;32m/var/folders/qn/sd1_3x2j4196db03067vql600000gn/T/ipykernel_7462/2258898875.py\u001b[0m in \u001b[0;36mdescribe_data\u001b[0;34m(df)\u001b[0m\n\u001b[1;32m     81\u001b[0m         \u001b[0;32melse\u001b[0m\u001b[0;34m:\u001b[0m\u001b[0;34m\u001b[0m\u001b[0;34m\u001b[0m\u001b[0m\n\u001b[1;32m     82\u001b[0m             \u001b[0mprint\u001b[0m\u001b[0;34m(\u001b[0m\u001b[0;34mf'Column: {col} \\n'\u001b[0m\u001b[0;34m)\u001b[0m\u001b[0;34m\u001b[0m\u001b[0;34m\u001b[0m\u001b[0m\n\u001b[0;32m---> 83\u001b[0;31m             \u001b[0mprint\u001b[0m\u001b[0;34m(\u001b[0m\u001b[0;34mf'Range of Values: [{df[col].min()} - {df[col].max()}] \\n'\u001b[0m\u001b[0;34m)\u001b[0m\u001b[0;34m\u001b[0m\u001b[0;34m\u001b[0m\u001b[0m\n\u001b[0m\u001b[1;32m     84\u001b[0m         \u001b[0mprint\u001b[0m\u001b[0;34m(\u001b[0m\u001b[0;34m'------------------------------------------'\u001b[0m\u001b[0;34m)\u001b[0m\u001b[0;34m\u001b[0m\u001b[0;34m\u001b[0m\u001b[0m\n\u001b[1;32m     85\u001b[0m         \u001b[0mprint\u001b[0m\u001b[0;34m(\u001b[0m\u001b[0;34m'--------------------------------------'\u001b[0m\u001b[0;34m)\u001b[0m\u001b[0;34m\u001b[0m\u001b[0;34m\u001b[0m\u001b[0m\n",
      "\u001b[0;32m/usr/local/anaconda3/lib/python3.9/site-packages/pandas/core/generic.py\u001b[0m in \u001b[0;36mmin\u001b[0;34m(self, axis, skipna, level, numeric_only, **kwargs)\u001b[0m\n\u001b[1;32m  10834\u001b[0m         )\n\u001b[1;32m  10835\u001b[0m         \u001b[0;32mdef\u001b[0m \u001b[0mmin\u001b[0m\u001b[0;34m(\u001b[0m\u001b[0mself\u001b[0m\u001b[0;34m,\u001b[0m \u001b[0maxis\u001b[0m\u001b[0;34m=\u001b[0m\u001b[0;32mNone\u001b[0m\u001b[0;34m,\u001b[0m \u001b[0mskipna\u001b[0m\u001b[0;34m=\u001b[0m\u001b[0;32mNone\u001b[0m\u001b[0;34m,\u001b[0m \u001b[0mlevel\u001b[0m\u001b[0;34m=\u001b[0m\u001b[0;32mNone\u001b[0m\u001b[0;34m,\u001b[0m \u001b[0mnumeric_only\u001b[0m\u001b[0;34m=\u001b[0m\u001b[0;32mNone\u001b[0m\u001b[0;34m,\u001b[0m \u001b[0;34m**\u001b[0m\u001b[0mkwargs\u001b[0m\u001b[0;34m)\u001b[0m\u001b[0;34m:\u001b[0m\u001b[0;34m\u001b[0m\u001b[0;34m\u001b[0m\u001b[0m\n\u001b[0;32m> 10836\u001b[0;31m             \u001b[0;32mreturn\u001b[0m \u001b[0mNDFrame\u001b[0m\u001b[0;34m.\u001b[0m\u001b[0mmin\u001b[0m\u001b[0;34m(\u001b[0m\u001b[0mself\u001b[0m\u001b[0;34m,\u001b[0m \u001b[0maxis\u001b[0m\u001b[0;34m,\u001b[0m \u001b[0mskipna\u001b[0m\u001b[0;34m,\u001b[0m \u001b[0mlevel\u001b[0m\u001b[0;34m,\u001b[0m \u001b[0mnumeric_only\u001b[0m\u001b[0;34m,\u001b[0m \u001b[0;34m**\u001b[0m\u001b[0mkwargs\u001b[0m\u001b[0;34m)\u001b[0m\u001b[0;34m\u001b[0m\u001b[0;34m\u001b[0m\u001b[0m\n\u001b[0m\u001b[1;32m  10837\u001b[0m \u001b[0;34m\u001b[0m\u001b[0m\n\u001b[1;32m  10838\u001b[0m         \u001b[0msetattr\u001b[0m\u001b[0;34m(\u001b[0m\u001b[0mcls\u001b[0m\u001b[0;34m,\u001b[0m \u001b[0;34m\"min\"\u001b[0m\u001b[0;34m,\u001b[0m \u001b[0mmin\u001b[0m\u001b[0;34m)\u001b[0m\u001b[0;34m\u001b[0m\u001b[0;34m\u001b[0m\u001b[0m\n",
      "\u001b[0;32m/usr/local/anaconda3/lib/python3.9/site-packages/pandas/core/generic.py\u001b[0m in \u001b[0;36mmin\u001b[0;34m(self, axis, skipna, level, numeric_only, **kwargs)\u001b[0m\n\u001b[1;32m  10357\u001b[0m \u001b[0;34m\u001b[0m\u001b[0m\n\u001b[1;32m  10358\u001b[0m     \u001b[0;32mdef\u001b[0m \u001b[0mmin\u001b[0m\u001b[0;34m(\u001b[0m\u001b[0mself\u001b[0m\u001b[0;34m,\u001b[0m \u001b[0maxis\u001b[0m\u001b[0;34m=\u001b[0m\u001b[0;32mNone\u001b[0m\u001b[0;34m,\u001b[0m \u001b[0mskipna\u001b[0m\u001b[0;34m=\u001b[0m\u001b[0;32mNone\u001b[0m\u001b[0;34m,\u001b[0m \u001b[0mlevel\u001b[0m\u001b[0;34m=\u001b[0m\u001b[0;32mNone\u001b[0m\u001b[0;34m,\u001b[0m \u001b[0mnumeric_only\u001b[0m\u001b[0;34m=\u001b[0m\u001b[0;32mNone\u001b[0m\u001b[0;34m,\u001b[0m \u001b[0;34m**\u001b[0m\u001b[0mkwargs\u001b[0m\u001b[0;34m)\u001b[0m\u001b[0;34m:\u001b[0m\u001b[0;34m\u001b[0m\u001b[0;34m\u001b[0m\u001b[0m\n\u001b[0;32m> 10359\u001b[0;31m         return self._stat_function(\n\u001b[0m\u001b[1;32m  10360\u001b[0m             \u001b[0;34m\"min\"\u001b[0m\u001b[0;34m,\u001b[0m \u001b[0mnanops\u001b[0m\u001b[0;34m.\u001b[0m\u001b[0mnanmin\u001b[0m\u001b[0;34m,\u001b[0m \u001b[0maxis\u001b[0m\u001b[0;34m,\u001b[0m \u001b[0mskipna\u001b[0m\u001b[0;34m,\u001b[0m \u001b[0mlevel\u001b[0m\u001b[0;34m,\u001b[0m \u001b[0mnumeric_only\u001b[0m\u001b[0;34m,\u001b[0m \u001b[0;34m**\u001b[0m\u001b[0mkwargs\u001b[0m\u001b[0;34m\u001b[0m\u001b[0;34m\u001b[0m\u001b[0m\n\u001b[1;32m  10361\u001b[0m         )\n",
      "\u001b[0;32m/usr/local/anaconda3/lib/python3.9/site-packages/pandas/core/generic.py\u001b[0m in \u001b[0;36m_stat_function\u001b[0;34m(self, name, func, axis, skipna, level, numeric_only, **kwargs)\u001b[0m\n\u001b[1;32m  10352\u001b[0m                 \u001b[0mname\u001b[0m\u001b[0;34m,\u001b[0m \u001b[0maxis\u001b[0m\u001b[0;34m=\u001b[0m\u001b[0maxis\u001b[0m\u001b[0;34m,\u001b[0m \u001b[0mlevel\u001b[0m\u001b[0;34m=\u001b[0m\u001b[0mlevel\u001b[0m\u001b[0;34m,\u001b[0m \u001b[0mskipna\u001b[0m\u001b[0;34m=\u001b[0m\u001b[0mskipna\u001b[0m\u001b[0;34m,\u001b[0m \u001b[0mnumeric_only\u001b[0m\u001b[0;34m=\u001b[0m\u001b[0mnumeric_only\u001b[0m\u001b[0;34m\u001b[0m\u001b[0;34m\u001b[0m\u001b[0m\n\u001b[1;32m  10353\u001b[0m             )\n\u001b[0;32m> 10354\u001b[0;31m         return self._reduce(\n\u001b[0m\u001b[1;32m  10355\u001b[0m             \u001b[0mfunc\u001b[0m\u001b[0;34m,\u001b[0m \u001b[0mname\u001b[0m\u001b[0;34m=\u001b[0m\u001b[0mname\u001b[0m\u001b[0;34m,\u001b[0m \u001b[0maxis\u001b[0m\u001b[0;34m=\u001b[0m\u001b[0maxis\u001b[0m\u001b[0;34m,\u001b[0m \u001b[0mskipna\u001b[0m\u001b[0;34m=\u001b[0m\u001b[0mskipna\u001b[0m\u001b[0;34m,\u001b[0m \u001b[0mnumeric_only\u001b[0m\u001b[0;34m=\u001b[0m\u001b[0mnumeric_only\u001b[0m\u001b[0;34m\u001b[0m\u001b[0;34m\u001b[0m\u001b[0m\n\u001b[1;32m  10356\u001b[0m         )\n",
      "\u001b[0;32m/usr/local/anaconda3/lib/python3.9/site-packages/pandas/core/series.py\u001b[0m in \u001b[0;36m_reduce\u001b[0;34m(self, op, name, axis, skipna, numeric_only, filter_type, **kwds)\u001b[0m\n\u001b[1;32m   4390\u001b[0m                 )\n\u001b[1;32m   4391\u001b[0m             \u001b[0;32mwith\u001b[0m \u001b[0mnp\u001b[0m\u001b[0;34m.\u001b[0m\u001b[0merrstate\u001b[0m\u001b[0;34m(\u001b[0m\u001b[0mall\u001b[0m\u001b[0;34m=\u001b[0m\u001b[0;34m\"ignore\"\u001b[0m\u001b[0;34m)\u001b[0m\u001b[0;34m:\u001b[0m\u001b[0;34m\u001b[0m\u001b[0;34m\u001b[0m\u001b[0m\n\u001b[0;32m-> 4392\u001b[0;31m                 \u001b[0;32mreturn\u001b[0m \u001b[0mop\u001b[0m\u001b[0;34m(\u001b[0m\u001b[0mdelegate\u001b[0m\u001b[0;34m,\u001b[0m \u001b[0mskipna\u001b[0m\u001b[0;34m=\u001b[0m\u001b[0mskipna\u001b[0m\u001b[0;34m,\u001b[0m \u001b[0;34m**\u001b[0m\u001b[0mkwds\u001b[0m\u001b[0;34m)\u001b[0m\u001b[0;34m\u001b[0m\u001b[0;34m\u001b[0m\u001b[0m\n\u001b[0m\u001b[1;32m   4393\u001b[0m \u001b[0;34m\u001b[0m\u001b[0m\n\u001b[1;32m   4394\u001b[0m     def _reindex_indexer(\n",
      "\u001b[0;32m/usr/local/anaconda3/lib/python3.9/site-packages/pandas/core/nanops.py\u001b[0m in \u001b[0;36mf\u001b[0;34m(values, axis, skipna, **kwds)\u001b[0m\n\u001b[1;32m    153\u001b[0m                     \u001b[0mresult\u001b[0m \u001b[0;34m=\u001b[0m \u001b[0malt\u001b[0m\u001b[0;34m(\u001b[0m\u001b[0mvalues\u001b[0m\u001b[0;34m,\u001b[0m \u001b[0maxis\u001b[0m\u001b[0;34m=\u001b[0m\u001b[0maxis\u001b[0m\u001b[0;34m,\u001b[0m \u001b[0mskipna\u001b[0m\u001b[0;34m=\u001b[0m\u001b[0mskipna\u001b[0m\u001b[0;34m,\u001b[0m \u001b[0;34m**\u001b[0m\u001b[0mkwds\u001b[0m\u001b[0;34m)\u001b[0m\u001b[0;34m\u001b[0m\u001b[0;34m\u001b[0m\u001b[0m\n\u001b[1;32m    154\u001b[0m             \u001b[0;32melse\u001b[0m\u001b[0;34m:\u001b[0m\u001b[0;34m\u001b[0m\u001b[0;34m\u001b[0m\u001b[0m\n\u001b[0;32m--> 155\u001b[0;31m                 \u001b[0mresult\u001b[0m \u001b[0;34m=\u001b[0m \u001b[0malt\u001b[0m\u001b[0;34m(\u001b[0m\u001b[0mvalues\u001b[0m\u001b[0;34m,\u001b[0m \u001b[0maxis\u001b[0m\u001b[0;34m=\u001b[0m\u001b[0maxis\u001b[0m\u001b[0;34m,\u001b[0m \u001b[0mskipna\u001b[0m\u001b[0;34m=\u001b[0m\u001b[0mskipna\u001b[0m\u001b[0;34m,\u001b[0m \u001b[0;34m**\u001b[0m\u001b[0mkwds\u001b[0m\u001b[0;34m)\u001b[0m\u001b[0;34m\u001b[0m\u001b[0;34m\u001b[0m\u001b[0m\n\u001b[0m\u001b[1;32m    156\u001b[0m \u001b[0;34m\u001b[0m\u001b[0m\n\u001b[1;32m    157\u001b[0m             \u001b[0;32mreturn\u001b[0m \u001b[0mresult\u001b[0m\u001b[0;34m\u001b[0m\u001b[0;34m\u001b[0m\u001b[0m\n",
      "\u001b[0;32m/usr/local/anaconda3/lib/python3.9/site-packages/pandas/core/nanops.py\u001b[0m in \u001b[0;36mnew_func\u001b[0;34m(values, axis, skipna, mask, **kwargs)\u001b[0m\n\u001b[1;32m    408\u001b[0m             \u001b[0mmask\u001b[0m \u001b[0;34m=\u001b[0m \u001b[0misna\u001b[0m\u001b[0;34m(\u001b[0m\u001b[0mvalues\u001b[0m\u001b[0;34m)\u001b[0m\u001b[0;34m\u001b[0m\u001b[0;34m\u001b[0m\u001b[0m\n\u001b[1;32m    409\u001b[0m \u001b[0;34m\u001b[0m\u001b[0m\n\u001b[0;32m--> 410\u001b[0;31m         \u001b[0mresult\u001b[0m \u001b[0;34m=\u001b[0m \u001b[0mfunc\u001b[0m\u001b[0;34m(\u001b[0m\u001b[0mvalues\u001b[0m\u001b[0;34m,\u001b[0m \u001b[0maxis\u001b[0m\u001b[0;34m=\u001b[0m\u001b[0maxis\u001b[0m\u001b[0;34m,\u001b[0m \u001b[0mskipna\u001b[0m\u001b[0;34m=\u001b[0m\u001b[0mskipna\u001b[0m\u001b[0;34m,\u001b[0m \u001b[0mmask\u001b[0m\u001b[0;34m=\u001b[0m\u001b[0mmask\u001b[0m\u001b[0;34m,\u001b[0m \u001b[0;34m**\u001b[0m\u001b[0mkwargs\u001b[0m\u001b[0;34m)\u001b[0m\u001b[0;34m\u001b[0m\u001b[0;34m\u001b[0m\u001b[0m\n\u001b[0m\u001b[1;32m    411\u001b[0m \u001b[0;34m\u001b[0m\u001b[0m\n\u001b[1;32m    412\u001b[0m         \u001b[0;32mif\u001b[0m \u001b[0mdatetimelike\u001b[0m\u001b[0;34m:\u001b[0m\u001b[0;34m\u001b[0m\u001b[0;34m\u001b[0m\u001b[0m\n",
      "\u001b[0;32m/usr/local/anaconda3/lib/python3.9/site-packages/pandas/core/nanops.py\u001b[0m in \u001b[0;36mreduction\u001b[0;34m(values, axis, skipna, mask)\u001b[0m\n\u001b[1;32m   1015\u001b[0m                 \u001b[0mresult\u001b[0m \u001b[0;34m=\u001b[0m \u001b[0mnp\u001b[0m\u001b[0;34m.\u001b[0m\u001b[0mnan\u001b[0m\u001b[0;34m\u001b[0m\u001b[0;34m\u001b[0m\u001b[0m\n\u001b[1;32m   1016\u001b[0m         \u001b[0;32melse\u001b[0m\u001b[0;34m:\u001b[0m\u001b[0;34m\u001b[0m\u001b[0;34m\u001b[0m\u001b[0m\n\u001b[0;32m-> 1017\u001b[0;31m             \u001b[0mresult\u001b[0m \u001b[0;34m=\u001b[0m \u001b[0mgetattr\u001b[0m\u001b[0;34m(\u001b[0m\u001b[0mvalues\u001b[0m\u001b[0;34m,\u001b[0m \u001b[0mmeth\u001b[0m\u001b[0;34m)\u001b[0m\u001b[0;34m(\u001b[0m\u001b[0maxis\u001b[0m\u001b[0;34m)\u001b[0m\u001b[0;34m\u001b[0m\u001b[0;34m\u001b[0m\u001b[0m\n\u001b[0m\u001b[1;32m   1018\u001b[0m \u001b[0;34m\u001b[0m\u001b[0m\n\u001b[1;32m   1019\u001b[0m         \u001b[0mresult\u001b[0m \u001b[0;34m=\u001b[0m \u001b[0m_maybe_null_out\u001b[0m\u001b[0;34m(\u001b[0m\u001b[0mresult\u001b[0m\u001b[0;34m,\u001b[0m \u001b[0maxis\u001b[0m\u001b[0;34m,\u001b[0m \u001b[0mmask\u001b[0m\u001b[0;34m,\u001b[0m \u001b[0mvalues\u001b[0m\u001b[0;34m.\u001b[0m\u001b[0mshape\u001b[0m\u001b[0;34m)\u001b[0m\u001b[0;34m\u001b[0m\u001b[0;34m\u001b[0m\u001b[0m\n",
      "\u001b[0;32m/usr/local/anaconda3/lib/python3.9/site-packages/numpy/core/_methods.py\u001b[0m in \u001b[0;36m_amin\u001b[0;34m(a, axis, out, keepdims, initial, where)\u001b[0m\n\u001b[1;32m     41\u001b[0m def _amin(a, axis=None, out=None, keepdims=False,\n\u001b[1;32m     42\u001b[0m           initial=_NoValue, where=True):\n\u001b[0;32m---> 43\u001b[0;31m     \u001b[0;32mreturn\u001b[0m \u001b[0mumr_minimum\u001b[0m\u001b[0;34m(\u001b[0m\u001b[0ma\u001b[0m\u001b[0;34m,\u001b[0m \u001b[0maxis\u001b[0m\u001b[0;34m,\u001b[0m \u001b[0;32mNone\u001b[0m\u001b[0;34m,\u001b[0m \u001b[0mout\u001b[0m\u001b[0;34m,\u001b[0m \u001b[0mkeepdims\u001b[0m\u001b[0;34m,\u001b[0m \u001b[0minitial\u001b[0m\u001b[0;34m,\u001b[0m \u001b[0mwhere\u001b[0m\u001b[0;34m)\u001b[0m\u001b[0;34m\u001b[0m\u001b[0;34m\u001b[0m\u001b[0m\n\u001b[0m\u001b[1;32m     44\u001b[0m \u001b[0;34m\u001b[0m\u001b[0m\n\u001b[1;32m     45\u001b[0m def _sum(a, axis=None, dtype=None, out=None, keepdims=False,\n",
      "\u001b[0;31mTypeError\u001b[0m: '<=' not supported between instances of 'float' and 'str'"
     ]
    }
   ],
   "source": [
    "describe_data(dirty_df)"
   ]
  },
  {
   "cell_type": "markdown",
   "id": "ab1c56e4-5192-495a-8d05-4e42037211a2",
   "metadata": {},
   "source": [
    "# .49 of data frame has missing values. \n",
    "So there's a lot to tackle. \n",
    "I first set to distinguish which properties would most likely be single unit family residences. Among these\n",
    "\n",
    "           array(['Single Family Residential', 'Condominium',\n",
    "                  'Duplex (2 Units, Any Combination)', 'Residential General',\n",
    "                  'Planned Unit Development', 'Triplex (3 Units, Any Combination)',\n",
    "                  'Quadruplex (4 Units, Any Combination)', 'Cluster Home',\n",
    "                  'Commercial/Office/Residential Mixed Used', 'Cooperative',\n",
    "                  'Manufactured, Modular, Prefabricated Homes', 'Mobile Home',\n",
    "                  'Townhouse']\n",
    "                  \n",
    "Single Family Residential, Mobile Home, Manufactured Modular, and Cluster Home all seemed acceptable, so I sliced the dataframe up, keeping only those four. \n",
    "\n",
    "Then I removed properties that couldn't be even a studio; hence onces where there are 0 baths and 0 beds. 0 beds alone wouldn't be too unusual, although very cramped, but not having a bath is unacceptable. So then I removed all properties where bathroom count was at 0. \n",
    "\n",
    "The legal size of a bedroom is 70 sq feet, so I removed properties that were less than 70 for their area. California has a minimum lot size of 5000 sqfeet per single family unit. Consequently, those beneath that threshold were removed. "
   ]
  },
  {
   "cell_type": "code",
   "execution_count": 17,
   "id": "7785c6bf-3d17-4285-8b44-2f2dd7973cc8",
   "metadata": {},
   "outputs": [
    {
     "name": "stdout",
     "output_type": "stream",
     "text": [
      "The following 34 columns were dropped because they were missing more than 50.0% of data: \n",
      "['airconditioningtypeid', 'architecturalstyletypeid', 'basementsqft', 'buildingclasstypeid', 'decktypeid', 'finishedfloor1squarefeet', 'finishedsquarefeet13', 'finishedsquarefeet15', 'finishedsquarefeet50', 'finishedsquarefeet6', 'fireplacecnt', 'garagecarcnt', 'garagetotalsqft', 'hashottuborspa', 'poolcnt', 'poolsizesum', 'pooltypeid10', 'pooltypeid2', 'pooltypeid7', 'regionidneighborhood', 'storytypeid', 'threequarterbathnbr', 'typeconstructiontypeid', 'yardbuildingsqft17', 'yardbuildingsqft26', 'numberofstories', 'fireplaceflag', 'taxdelinquencyflag', 'taxdelinquencyyear', 'airconditioningdesc', 'architecturalstyledesc', 'buildingclassdesc', 'storydesc', 'typeconstructiondesc']\n",
      "\n",
      "0 rows were dropped because they were missing more than 50.0% of data\n"
     ]
    }
   ],
   "source": [
    "# a quick walkthrough of losses up to this point. \n",
    "less_dirty_df = data_prep(dirty_df)"
   ]
  },
  {
   "cell_type": "code",
   "execution_count": 18,
   "id": "b09a893a-e8e2-4b63-a907-c747036132a6",
   "metadata": {},
   "outputs": [
    {
     "name": "stdout",
     "output_type": "stream",
     "text": [
      "(77380, 34)\n",
      " So far 0.32 percent of rows have been lost\n"
     ]
    }
   ],
   "source": [
    "print(less_dirty_df.shape)\n",
    "# this dropped columns based on a threshold. \n",
    "# if the column is missing more than 50% of its values, it goes away\n",
    "# the same would apply to rows, but no rows were dropped on these grounds\n",
    "\n",
    "less_dirty_df = less_dirty_df[(less_dirty_df.propertylandusedesc == 'Single Family Residential') |\n",
    "  (less_dirty_df.propertylandusedesc == 'Mobile Home') |\n",
    "  (less_dirty_df.propertylandusedesc == 'Manufactured, Modular, Prefabricated Homes') |\n",
    "  (less_dirty_df.propertylandusedesc == 'Cluster Home')]\n",
    "less_dirty_df.shape\n",
    "\n",
    "rows_lost = (77380-52784)/ 77380 \n",
    "print(f' So far {round(rows_lost,2)} percent of rows have been lost')"
   ]
  },
  {
   "cell_type": "code",
   "execution_count": 19,
   "id": "5250787f-1296-4cbc-96c1-85a8aae53d6d",
   "metadata": {},
   "outputs": [],
   "source": [
    " # Remove properties that couldn't even plausibly be a studio. \n",
    "less_dirty_df= less_dirty_df[(less_dirty_df.bedroomcnt > 0) & (less_dirty_df.bathroomcnt > 0)]\n",
    "    \n",
    "    # Remove properties where there is not a single bathroom.\n",
    "less_dirty_df = less_dirty_df[less_dirty_df.bathroomcnt > 0]\n",
    "    \n",
    " # keep only properties with square footage greater than 70 (legal size of a bedroom)\n",
    "less_dirty_df = less_dirty_df[less_dirty_df.calculatedfinishedsquarefeet > 70]\n",
    "    \n",
    "    # Minimum lot size of single family units.\n",
    "less_dirty_df = less_dirty_df[less_dirty_df.lotsizesquarefeet >= 5000].copy()"
   ]
  },
  {
   "cell_type": "code",
   "execution_count": 20,
   "id": "2e2a2c8e-0a94-44c7-b55d-1d286d31465e",
   "metadata": {},
   "outputs": [
    {
     "data": {
      "text/plain": [
       "(44130, 34)"
      ]
     },
     "execution_count": 20,
     "metadata": {},
     "output_type": "execute_result"
    }
   ],
   "source": [
    "less_dirty_df.shape\n",
    "# another 8 thousands rows lost. But the content is looking cleaner. "
   ]
  },
  {
   "cell_type": "code",
   "execution_count": 21,
   "id": "8696b4c2-1adb-4f84-a927-fd7a28972888",
   "metadata": {},
   "outputs": [],
   "source": [
    "# Clear indicators of single unit family. Other codes non-existent or indicate commercial sites. \n",
    "# 0100 - Single Residence\n",
    "# 0101 Single residence with pool\n",
    "# 0104 - Single resident with therapy pool\n",
    "# the others are for orange and Ventura, each representing similar data\n",
    "less_dirty_df = less_dirty_df[(less_dirty_df.propertycountylandusecode == '0100') |\n",
    "        (less_dirty_df.propertycountylandusecode == '0101') |\n",
    "        (less_dirty_df.propertycountylandusecode == '0104') |\n",
    "        (less_dirty_df.propertycountylandusecode == '122') | \n",
    "        (less_dirty_df.propertycountylandusecode == '1111') |\n",
    "        (less_dirty_df.propertycountylandusecode == '1110') |\n",
    "        (less_dirty_df.propertycountylandusecode == '1')\n",
    "                             ]"
   ]
  },
  {
   "cell_type": "code",
   "execution_count": 22,
   "id": "06abcc59-0329-48e4-a91c-67e0936de601",
   "metadata": {},
   "outputs": [
    {
     "data": {
      "text/plain": [
       "(43806, 34)"
      ]
     },
     "execution_count": 22,
     "metadata": {},
     "output_type": "execute_result"
    }
   ],
   "source": [
    "less_dirty_df.shape\n",
    "# only four thousand rows lost. "
   ]
  },
  {
   "cell_type": "code",
   "execution_count": 23,
   "id": "7c0d4771-eac7-4313-9e83-532a88892eed",
   "metadata": {},
   "outputs": [
    {
     "data": {
      "text/plain": [
       "(43793, 34)"
      ]
     },
     "execution_count": 23,
     "metadata": {},
     "output_type": "execute_result"
    }
   ],
   "source": [
    "# Remove rows where unit count is 2. The NaN's can be safely assumed as 1 and were just mislabeled in other counties.  \n",
    "less_dirty_df = less_dirty_df[less_dirty_df['unitcnt'] != 2]\n",
    "less_dirty_df['unitcnt'].fillna(1)\n",
    "less_dirty_df.shape"
   ]
  },
  {
   "cell_type": "code",
   "execution_count": 24,
   "id": "0abe968b-8145-45f2-8c5e-2e97986b8fb0",
   "metadata": {},
   "outputs": [],
   "source": [
    "# Property where finished area is 152 but bed count is 5. \n",
    "less_dirty_df = less_dirty_df.drop(labels=75325, axis=0)"
   ]
  },
  {
   "cell_type": "code",
   "execution_count": 25,
   "id": "810d348d-0240-4b41-b528-f939003453f5",
   "metadata": {},
   "outputs": [],
   "source": [
    "# each of these columns were redundant (equal to others) or had too many nulls and couldn't be imputed\n",
    "less_dirty_df =less_dirty_df.drop(columns= ['finishedsquarefeet12', 'fullbathcnt', 'calculatedbathnbr',\n",
    "                  'propertyzoningdesc', 'unitcnt', 'propertylandusedesc',\n",
    "                  'assessmentyear', 'roomcnt', 'regionidcounty', 'propertylandusetypeid',\n",
    "                  'heatingorsystemtypeid', 'id', 'heatingorsystemdesc', 'buildingqualitytypeid'],\n",
    "        axis=1)"
   ]
  },
  {
   "cell_type": "code",
   "execution_count": 26,
   "id": "9d32d6a5-3439-494e-8b59-10c2fda6db90",
   "metadata": {},
   "outputs": [
    {
     "data": {
      "text/plain": [
       "(43792, 20)"
      ]
     },
     "execution_count": 26,
     "metadata": {},
     "output_type": "execute_result"
    }
   ],
   "source": [
    "less_dirty_df.shape\n",
    "# only one row was lost, and 14 unnecessary columns were removed. "
   ]
  },
  {
   "cell_type": "code",
   "execution_count": 27,
   "id": "f9fe5958-1e8f-49b1-8b63-563db5c7300b",
   "metadata": {},
   "outputs": [
    {
     "name": "stdout",
     "output_type": "stream",
     "text": [
      "This dataframe has 43792 rows and 20 columns.\n",
      "\n",
      "--------------------------------------\n",
      "--------------------------------------\n",
      "<class 'pandas.core.frame.DataFrame'>\n",
      "Int64Index: 43792 entries, 1 to 77379\n",
      "Data columns (total 20 columns):\n",
      " #   Column                        Non-Null Count  Dtype  \n",
      "---  ------                        --------------  -----  \n",
      " 0   parcelid                      43792 non-null  int64  \n",
      " 1   bathroomcnt                   43792 non-null  float64\n",
      " 2   bedroomcnt                    43792 non-null  float64\n",
      " 3   calculatedfinishedsquarefeet  43792 non-null  float64\n",
      " 4   fips                          43792 non-null  float64\n",
      " 5   latitude                      43792 non-null  float64\n",
      " 6   longitude                     43792 non-null  float64\n",
      " 7   lotsizesquarefeet             43792 non-null  float64\n",
      " 8   propertycountylandusecode     43792 non-null  object \n",
      " 9   rawcensustractandblock        43792 non-null  float64\n",
      " 10  regionidcity                  42921 non-null  float64\n",
      " 11  regionidzip                   43784 non-null  float64\n",
      " 12  yearbuilt                     43764 non-null  float64\n",
      " 13  structuretaxvaluedollarcnt    43743 non-null  float64\n",
      " 14  taxvaluedollarcnt             43791 non-null  float64\n",
      " 15  landtaxvaluedollarcnt         43791 non-null  float64\n",
      " 16  taxamount                     43789 non-null  float64\n",
      " 17  censustractandblock           43757 non-null  float64\n",
      " 18  logerror                      43792 non-null  float64\n",
      " 19  transactiondate               43792 non-null  object \n",
      "dtypes: float64(17), int64(1), object(2)\n",
      "memory usage: 7.0+ MB\n",
      "None\n",
      "\n",
      "--------------------------------------\n",
      "--------------------------------------\n",
      "Here are the summary statistics of our dataset\n",
      "            parcelid bathroomcnt bedroomcnt calculatedfinishedsquarefeet  \\\n",
      "count      43792.000   43792.000  43792.000                    43792.000   \n",
      "mean    12889257.322       2.335      3.386                     1979.374   \n",
      "std      2275105.403       1.024      0.912                     1020.880   \n",
      "min     10711855.000       1.000      1.000                      360.000   \n",
      "25%     11389138.500       2.000      3.000                     1304.000   \n",
      "50%     12498357.000       2.000      3.000                     1701.000   \n",
      "75%     14050772.250       3.000      4.000                     2376.000   \n",
      "max    162960814.000      13.000     11.000                    21929.000   \n",
      "\n",
      "            fips      latitude       longitude lotsizesquarefeet  \\\n",
      "count  43792.000     43792.000       43792.000         43792.000   \n",
      "mean    6048.731  34047843.548  -118208742.392         11127.834   \n",
      "std       21.405    271731.517      353974.333         30622.381   \n",
      "min     6037.000  33392330.000  -119475416.000          5000.000   \n",
      "25%     6037.000  33848821.500  -118418503.250          6113.000   \n",
      "50%     6037.000  34052560.000  -118159499.000          7230.000   \n",
      "75%     6059.000  34202134.750  -117946046.000          9425.000   \n",
      "max     6111.000  34818767.000  -117554636.000       2831752.000   \n",
      "\n",
      "      rawcensustractandblock regionidcity regionidzip  yearbuilt  \\\n",
      "count              43792.000    42921.000   43784.000  43764.000   \n",
      "mean            60490541.017    33583.994   96642.077   1962.806   \n",
      "std               212449.770    50228.111    4821.962     21.801   \n",
      "min             60371011.101     4406.000   95982.000   1878.000   \n",
      "25%             60374003.036    12447.000   96213.000   1950.000   \n",
      "50%             60375749.014    24812.000   96412.000   1959.000   \n",
      "75%             60590320.593    40227.000   96996.000   1977.000   \n",
      "max             61110091.001   396556.000  399675.000   2016.000   \n",
      "\n",
      "      structuretaxvaluedollarcnt taxvaluedollarcnt landtaxvaluedollarcnt  \\\n",
      "count                  43743.000         43791.000             43791.000   \n",
      "mean                  198840.858        527197.279            328574.374   \n",
      "std                   257315.027        727022.545            532423.100   \n",
      "min                      181.000          1000.000               161.000   \n",
      "25%                    77863.000        187000.000             66938.000   \n",
      "50%                   133000.000        370904.000            212632.000   \n",
      "75%                   228000.000        619274.500            408160.500   \n",
      "max                  9164901.000      25381250.000          22335500.000   \n",
      "\n",
      "        taxamount  censustractandblock   logerror  \n",
      "count   43789.000            43757.000  43792.000  \n",
      "mean     6430.561   60500024604503.258      0.018  \n",
      "std      8453.198    2031085240643.749      0.178  \n",
      "min        49.180   60371011101009.000     -4.454  \n",
      "25%      2615.690   60374003043000.000     -0.025  \n",
      "50%      4646.560   60375750011000.000      0.007  \n",
      "75%      7363.730   60590320582009.000      0.041  \n",
      "max    288524.600  483030105084015.000      5.263  \n",
      "\n",
      "--------------------------------------\n",
      "--------------------------------------\n",
      "Null Values by Column: \n",
      "                              count  percentage\n",
      "regionidcity                    871        1.99\n",
      "structuretaxvaluedollarcnt       49        0.11\n",
      "censustractandblock              35        0.08\n",
      "yearbuilt                        28        0.06\n",
      "regionidzip                       8        0.02\n",
      "taxamount                         3        0.01\n",
      "bathroomcnt                       0        0.00\n",
      "logerror                          0        0.00\n",
      "landtaxvaluedollarcnt             1        0.00\n",
      "taxvaluedollarcnt                 1        0.00\n",
      "parcelid                          0        0.00\n",
      "rawcensustractandblock            0        0.00\n",
      "propertycountylandusecode         0        0.00\n",
      "lotsizesquarefeet                 0        0.00\n",
      "longitude                         0        0.00\n",
      "latitude                          0        0.00\n",
      "fips                              0        0.00\n",
      "calculatedfinishedsquarefeet      0        0.00\n",
      "bedroomcnt                        0        0.00\n",
      "transactiondate                   0        0.00\n",
      " \n",
      " Total Number of Missing Values: 996 \n",
      "\n",
      " Proportion of Nulls in Dataframe: 0.0011\n",
      "\n",
      "--------------------------------------\n",
      "--------------------------------------\n",
      "Row-by-Row Nulls\n",
      "                 percent_cols_missing  num_rows\n",
      "num_cols_missing                               \n",
      "1                                 5.0       954\n",
      "4                                20.0         4\n",
      "3                                15.0         6\n",
      "2                                10.0         4\n",
      "0                                 0.0     42824\n",
      "----------------------\n",
      "Relative Frequencies: \n",
      "\n",
      "Column: parcelid \n",
      "\n",
      "Range of Values: [10711855 - 162960814] \n",
      "\n",
      "------------------------------------------\n",
      "--------------------------------------\n",
      "Column: bathroomcnt \n",
      " 2.0    0.448\n",
      "3.0    0.213\n",
      "1.0    0.168\n",
      "2.5    0.050\n",
      "4.0    0.045\n",
      "Name: bathroomcnt, dtype: float64 \n",
      "\n",
      "------------------------------------------\n",
      "--------------------------------------\n",
      "Column: bedroomcnt \n",
      " 3.0    0.450\n",
      "4.0    0.311\n",
      "2.0    0.133\n",
      "5.0    0.083\n",
      "6.0    0.013\n",
      "Name: bedroomcnt, dtype: float64 \n",
      "\n",
      "------------------------------------------\n",
      "--------------------------------------\n",
      "Column: calculatedfinishedsquarefeet \n",
      "\n",
      "Range of Values: [360.0 - 21929.0] \n",
      "\n",
      "------------------------------------------\n",
      "--------------------------------------\n",
      "Column: fips \n",
      " 6037.0    0.674\n",
      "6059.0    0.238\n",
      "6111.0    0.088\n",
      "Name: fips, dtype: float64 \n",
      "\n",
      "------------------------------------------\n",
      "--------------------------------------\n",
      "Column: latitude \n",
      "\n",
      "Range of Values: [33392330.0 - 34818767.0] \n",
      "\n",
      "------------------------------------------\n",
      "--------------------------------------\n",
      "Column: longitude \n",
      "\n",
      "Range of Values: [-119475416.0 - -117554636.0] \n",
      "\n",
      "------------------------------------------\n",
      "--------------------------------------\n",
      "Column: lotsizesquarefeet \n",
      "\n",
      "Range of Values: [5000.0 - 2831752.0] \n",
      "\n",
      "------------------------------------------\n",
      "--------------------------------------\n",
      "Column: propertycountylandusecode \n",
      " 0100    0.524\n",
      "122     0.224\n",
      "0101    0.143\n",
      "1111    0.069\n",
      "1110    0.019\n",
      "Name: propertycountylandusecode, dtype: float64 \n",
      "\n",
      "------------------------------------------\n",
      "--------------------------------------\n",
      "Column: rawcensustractandblock \n",
      "\n",
      "Range of Values: [60371011.101009 - 61110091.00101701] \n",
      "\n",
      "------------------------------------------\n",
      "--------------------------------------\n",
      "Column: regionidcity \n",
      "\n",
      "Range of Values: [4406.0 - 396556.0] \n",
      "\n",
      "------------------------------------------\n",
      "--------------------------------------\n",
      "Column: regionidzip \n",
      "\n",
      "Range of Values: [95982.0 - 399675.0] \n",
      "\n",
      "------------------------------------------\n",
      "--------------------------------------\n",
      "Column: yearbuilt \n",
      "\n",
      "Range of Values: [1878.0 - 2016.0] \n",
      "\n",
      "------------------------------------------\n",
      "--------------------------------------\n",
      "Column: structuretaxvaluedollarcnt \n",
      "\n",
      "Range of Values: [181.0 - 9164901.0] \n",
      "\n",
      "------------------------------------------\n",
      "--------------------------------------\n",
      "Column: taxvaluedollarcnt \n",
      "\n",
      "Range of Values: [1000.0 - 25381250.0] \n",
      "\n",
      "------------------------------------------\n",
      "--------------------------------------\n",
      "Column: landtaxvaluedollarcnt \n",
      "\n",
      "Range of Values: [161.0 - 22335500.0] \n",
      "\n",
      "------------------------------------------\n",
      "--------------------------------------\n",
      "Column: taxamount \n",
      "\n",
      "Range of Values: [49.18 - 288524.6] \n",
      "\n",
      "------------------------------------------\n",
      "--------------------------------------\n",
      "Column: censustractandblock \n",
      "\n",
      "Range of Values: [60371011101009.0 - 483030105084015.0] \n",
      "\n",
      "------------------------------------------\n",
      "--------------------------------------\n",
      "Column: logerror \n",
      "\n",
      "Range of Values: [-4.45396399868 - 5.2629986498] \n",
      "\n",
      "------------------------------------------\n",
      "--------------------------------------\n",
      "Column: transactiondate \n",
      "\n",
      "Range of Values: [2017-01-01 - 2017-09-25] \n",
      "\n",
      "------------------------------------------\n",
      "--------------------------------------\n"
     ]
    }
   ],
   "source": [
    "describe_data(less_dirty_df)"
   ]
  },
  {
   "cell_type": "code",
   "execution_count": 28,
   "id": "91a9d2f1-e29d-40ad-b3b3-a46fff65055f",
   "metadata": {},
   "outputs": [],
   "source": [
    "# due to the small number of nulls at less than 0%, I dropped the remaining.\n",
    "less_dirty_df = less_dirty_df.dropna()"
   ]
  },
  {
   "cell_type": "code",
   "execution_count": 29,
   "id": "e1438d23-a59a-4f00-909c-a33d115a30d7",
   "metadata": {},
   "outputs": [
    {
     "name": "stdout",
     "output_type": "stream",
     "text": [
      "Yearbuilt converted to age. \n",
      "\n"
     ]
    }
   ],
   "source": [
    "# created an age column, droppped yearbuilt\n",
    "\n",
    "less_dirty_df['yearbuilt'] = less_dirty_df['yearbuilt'].astype(int)\n",
    "less_dirty_df.yearbuilt = less_dirty_df.yearbuilt.astype(object) \n",
    "less_dirty_df['age'] = 2017-less_dirty_df['yearbuilt']\n",
    "less_dirty_df = less_dirty_df.drop(columns='yearbuilt')\n",
    "less_dirty_df['age'] = less_dirty_df['age'].astype('int')\n",
    "print('Yearbuilt converted to age. \\n')"
   ]
  },
  {
   "cell_type": "code",
   "execution_count": 30,
   "id": "2432e934-6ce0-4720-96ef-cad4a3ec0d41",
   "metadata": {},
   "outputs": [
    {
     "data": {
      "text/plain": [
       "(42824, 20)"
      ]
     },
     "execution_count": 30,
     "metadata": {},
     "output_type": "execute_result"
    }
   ],
   "source": [
    "less_dirty_df.shape"
   ]
  },
  {
   "cell_type": "code",
   "execution_count": 31,
   "id": "adbc7bed-03fa-4d99-830f-c7dd2de06112",
   "metadata": {},
   "outputs": [],
   "source": [
    "# Removing problematic outlier groups.  \n",
    "less_dirty_df = remove_outliers(less_dirty_df, 3, ['lotsizesquarefeet', 'structuretaxvaluedollarcnt', 'taxvaluedollarcnt',\n",
    "                            'landtaxvaluedollarcnt', 'taxamount', 'calculatedfinishedsquarefeet'])"
   ]
  },
  {
   "cell_type": "code",
   "execution_count": 32,
   "id": "65551177-3b7c-4c04-8e2a-0841bc07c0c3",
   "metadata": {},
   "outputs": [
    {
     "data": {
      "text/plain": [
       "(37974, 20)"
      ]
     },
     "execution_count": 32,
     "metadata": {},
     "output_type": "execute_result"
    }
   ],
   "source": [
    "less_dirty_df.shape"
   ]
  },
  {
   "cell_type": "code",
   "execution_count": 33,
   "id": "8efdfc17-68c9-4450-b257-6ebc97ef41ee",
   "metadata": {},
   "outputs": [],
   "source": [
    "less_dirty_df = less_dirty_df.set_index('parcelid')"
   ]
  },
  {
   "cell_type": "code",
   "execution_count": 42,
   "id": "d47e13f1-ccd7-4c43-b23b-93cdcca866bf",
   "metadata": {},
   "outputs": [],
   "source": [
    "df = less_dirty_df.copy()"
   ]
  },
  {
   "cell_type": "code",
   "execution_count": 43,
   "id": "3a5cb675-f4ab-4734-9c99-4cd2b1dcdf7d",
   "metadata": {},
   "outputs": [],
   "source": [
    "df.regionidcity = df.regionidcity.astype(int)"
   ]
  },
  {
   "cell_type": "code",
   "execution_count": 44,
   "id": "17a2772d-c6ec-49c2-8db4-226f1c37d32a",
   "metadata": {},
   "outputs": [
    {
     "data": {
      "text/plain": [
       "5    34025\n",
       "4     2524\n",
       "6     1425\n",
       "Name: regionidcity, dtype: int64"
      ]
     },
     "execution_count": 44,
     "metadata": {},
     "output_type": "execute_result"
    }
   ],
   "source": [
    "df.regionidcity.astype(str).apply(len).value_counts()"
   ]
  },
  {
   "cell_type": "code",
   "execution_count": 45,
   "id": "2c1a1dca-710b-4599-9f5a-225dc4c0c453",
   "metadata": {},
   "outputs": [],
   "source": [
    "df = df[df.regionidcity.astype(str).apply(len) == 5]"
   ]
  },
  {
   "cell_type": "code",
   "execution_count": 48,
   "id": "15e83424-07cd-4ee0-b579-f1b739f8ee77",
   "metadata": {},
   "outputs": [],
   "source": [
    "df.regionidzip = df.regionidzip.astype(int)"
   ]
  },
  {
   "cell_type": "code",
   "execution_count": 49,
   "id": "a44d619b-da10-444c-a6d3-980ddb6534fb",
   "metadata": {},
   "outputs": [],
   "source": [
    "df = df[df.regionidzip.astype(str).apply(len) == 5]"
   ]
  },
  {
   "cell_type": "code",
   "execution_count": 52,
   "id": "6970c9b9-c860-4a0c-8942-7310b9f8bab2",
   "metadata": {},
   "outputs": [
    {
     "data": {
      "text/plain": [
       "(34022, 19)"
      ]
     },
     "execution_count": 52,
     "metadata": {},
     "output_type": "execute_result"
    }
   ],
   "source": [
    "df.shape"
   ]
  },
  {
   "cell_type": "code",
   "execution_count": null,
   "id": "2cfc9491-a26b-4d0d-a5a4-5f8343c89ab1",
   "metadata": {},
   "outputs": [],
   "source": [
    "# initial approach before using length as the basis. \n",
    "\n",
    "#df = df[~df['regionidcity'].isin([113412, 113576, 114828, 114834, 116042, 118217, 118225, 118694,\n",
    "#                                  118875, 118878, 118880, 118895, 118914, 118994, 272578, 5465, 5534,\n",
    "#                                  6021, 6395, 6822, 8384, 9840, 4406])]\n",
    "#df = df[~df['regionidcity'].isin([396053, 396054, 396550, 396551, 396556])]"
   ]
  },
  {
   "cell_type": "code",
   "execution_count": null,
   "id": "33f83432-caf4-4fd0-8cc6-897c71e711aa",
   "metadata": {},
   "outputs": [],
   "source": [
    "df"
   ]
  },
  {
   "cell_type": "code",
   "execution_count": 56,
   "id": "83ae3ac9-9182-42ae-b4bf-bcca683bdef7",
   "metadata": {},
   "outputs": [
    {
     "data": {
      "application/vnd.jupyter.widget-view+json": {
       "model_id": "16f5116a368c4eb2844a1482cea00806",
       "version_major": 2,
       "version_minor": 0
      },
      "text/plain": [
       "MitoWidget(analysis_data_json='{\"analysisName\": \"UUID-f77895d2-c0d2-4f71-b025-f7e985bf8fcf\", \"code\": {\"imports…"
      ]
     },
     "metadata": {},
     "output_type": "display_data"
    }
   ],
   "source": [
    "import mitosheet\n",
    "mitosheet.sheet(df, view_df=True)"
   ]
  },
  {
   "cell_type": "code",
   "execution_count": null,
   "id": "7199a5a3-734e-488a-ad57-8eb18ad7db64",
   "metadata": {},
   "outputs": [],
   "source": []
  },
  {
   "cell_type": "code",
   "execution_count": 53,
   "id": "9f2d7e46-ee97-4662-972a-a15c0137171e",
   "metadata": {},
   "outputs": [
    {
     "name": "stdout",
     "output_type": "stream",
     "text": [
      "['bathroomcnt', 'bedroomcnt', 'calculatedfinishedsquarefeet', 'fips', 'latitude', 'longitude', 'lotsizesquarefeet', 'rawcensustractandblock', 'regionidcity', 'regionidzip', 'structuretaxvaluedollarcnt', 'taxvaluedollarcnt', 'landtaxvaluedollarcnt', 'taxamount', 'censustractandblock', 'logerror', 'age']\n",
      "['propertycountylandusecode', 'transactiondate']\n"
     ]
    },
    {
     "data": {
      "image/png": "[encoded data removed]",
      "text/plain": [
       "<Figure size 360x360 with 1 Axes>"
      ]
     },
     "metadata": {
      "needs_background": "light"
     },
     "output_type": "display_data"
    },
    {
     "data": {
      "image/png": "[encoded data removed]",
      "text/plain": [
       "<Figure size 360x360 with 1 Axes>"
      ]
     },
     "metadata": {
      "needs_background": "light"
     },
     "output_type": "display_data"
    },
    {
     "data": {
      "image/png": "[encoded data removed]",
      "text/plain": [
       "<Figure size 360x360 with 1 Axes>"
      ]
     },
     "metadata": {
      "needs_background": "light"
     },
     "output_type": "display_data"
    },
    {
     "data": {
      "image/png": "[encoded data removed]",
      "text/plain": [
       "<Figure size 360x360 with 1 Axes>"
      ]
     },
     "metadata": {
      "needs_background": "light"
     },
     "output_type": "display_data"
    },
    {
     "data": {
      "image/png": "[encoded data removed]",
      "text/plain": [
       "<Figure size 360x360 with 1 Axes>"
      ]
     },
     "metadata": {
      "needs_background": "light"
     },
     "output_type": "display_data"
    },
    {
     "data": {
      "image/png": "[encoded data removed]",
      "text/plain": [
       "<Figure size 360x360 with 1 Axes>"
      ]
     },
     "metadata": {
      "needs_background": "light"
     },
     "output_type": "display_data"
    },
    {
     "data": {
      "image/png": "[encoded data removed]",
      "text/plain": [
       "<Figure size 360x360 with 1 Axes>"
      ]
     },
     "metadata": {
      "needs_background": "light"
     },
     "output_type": "display_data"
    },
    {
     "data": {
      "image/png": "[encoded data removed]",
      "text/plain": [
       "<Figure size 360x360 with 1 Axes>"
      ]
     },
     "metadata": {
      "needs_background": "light"
     },
     "output_type": "display_data"
    },
    {
     "data": {
      "image/png": "[encoded data removed]",
      "text/plain": [
       "<Figure size 360x360 with 1 Axes>"
      ]
     },
     "metadata": {
      "needs_background": "light"
     },
     "output_type": "display_data"
    },
    {
     "data": {
      "image/png": "[encoded data removed]",
      "text/plain": [
       "<Figure size 360x360 with 1 Axes>"
      ]
     },
     "metadata": {
      "needs_background": "light"
     },
     "output_type": "display_data"
    },
    {
     "data": {
      "image/png": "[encoded data removed]",
      "text/plain": [
       "<Figure size 360x360 with 1 Axes>"
      ]
     },
     "metadata": {
      "needs_background": "light"
     },
     "output_type": "display_data"
    },
    {
     "data": {
      "image/png": "[encoded data removed]",
      "text/plain": [
       "<Figure size 360x360 with 1 Axes>"
      ]
     },
     "metadata": {
      "needs_background": "light"
     },
     "output_type": "display_data"
    },
    {
     "data": {
      "image/png": "[encoded data removed]",
      "text/plain": [
       "<Figure size 360x360 with 1 Axes>"
      ]
     },
     "metadata": {
      "needs_background": "light"
     },
     "output_type": "display_data"
    },
    {
     "data": {
      "image/png": "[encoded data removed]",
      "text/plain": [
       "<Figure size 360x360 with 1 Axes>"
      ]
     },
     "metadata": {
      "needs_background": "light"
     },
     "output_type": "display_data"
    },
    {
     "data": {
      "image/png": "[encoded data removed]",
      "text/plain": [
       "<Figure size 360x360 with 1 Axes>"
      ]
     },
     "metadata": {
      "needs_background": "light"
     },
     "output_type": "display_data"
    },
    {
     "data": {
      "image/png": "[encoded data removed]",
      "text/plain": [
       "<Figure size 360x360 with 1 Axes>"
      ]
     },
     "metadata": {
      "needs_background": "light"
     },
     "output_type": "display_data"
    },
    {
     "data": {
      "image/png": "[encoded data removed]",
      "text/plain": [
       "<Figure size 360x360 with 1 Axes>"
      ]
     },
     "metadata": {
      "needs_background": "light"
     },
     "output_type": "display_data"
    },
    {
     "data": {
      "image/png": "[encoded data removed]",
      "text/plain": [
       "<Figure size 360x360 with 1 Axes>"
      ]
     },
     "metadata": {
      "needs_background": "light"
     },
     "output_type": "display_data"
    },
    {
     "data": {
      "image/png": "[encoded data removed]",
      "text/plain": [
       "<Figure size 360x360 with 1 Axes>"
      ]
     },
     "metadata": {
      "needs_background": "light"
     },
     "output_type": "display_data"
    }
   ],
   "source": [
    "num_list = []\n",
    "cat_list = []\n",
    "\n",
    "for column in df:\n",
    "    plt.figure(column, figsize = (5,5))\n",
    "    plt.title(column)\n",
    "    if pd.api.types.is_numeric_dtype(df[column]):\n",
    "        df[column].plot(kind = 'hist')\n",
    "        num_list.append(column)\n",
    "    elif pd.api.types.is_string_dtype(df[column]) :\n",
    "        # show only the TOP 10 value count in each categorical data\n",
    "        df[column].value_counts()[:10].plot(kind = 'bar')\n",
    "        cat_list.append(column)\n",
    "        \n",
    "print(num_list)\n",
    "print(cat_list)"
   ]
  },
  {
   "cell_type": "code",
   "execution_count": null,
   "id": "f79ba9e6-d036-4702-8432-eb7b90479e72",
   "metadata": {},
   "outputs": [],
   "source": [
    "df.shape"
   ]
  },
  {
   "cell_type": "code",
   "execution_count": null,
   "id": "2993ed98-d715-4f32-92ea-2098cf752ee6",
   "metadata": {},
   "outputs": [],
   "source": []
  }
 ],
 "metadata": {
  "kernelspec": {
   "display_name": "Python 3 (ipykernel)",
   "language": "python",
   "name": "python3"
  },
  "language_info": {
   "codemirror_mode": {
    "name": "ipython",
    "version": 3
   },
   "file_extension": ".py",
   "mimetype": "text/x-python",
   "name": "python",
   "nbconvert_exporter": "python",
   "pygments_lexer": "ipython3",
   "version": "3.9.7"
  }
 },
 "nbformat": 4,
 "nbformat_minor": 5
}
