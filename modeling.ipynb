{
 "cells": [
  {
   "cell_type": "code",
   "execution_count": 1,
   "id": "72d275a4-268f-4a5d-8dd8-b95f95ae6e86",
   "metadata": {},
   "outputs": [],
   "source": [
    "import wrangle as w \n",
    "import os \n",
    "from env import get_db_url\n",
    "\n",
    "import pandas as pd \n",
    "import numpy as np\n",
    "\n",
    "from collections import Counter\n",
    "\n",
    "from sklearn.model_selection import train_test_split\n",
    "\n",
    "from datetime import date\n",
    "\n",
    "import matplotlib.pyplot as plt\n",
    "import seaborn as sns\n",
    "\n",
    "# feature selection imports\n",
    "from sklearn.feature_selection import SelectKBest, f_regression\n",
    "from sklearn.feature_selection import RFE\n",
    "from sklearn.model_selection import train_test_split\n",
    "\n",
    "# import scaling methods\n",
    "from sklearn.preprocessing import MinMaxScaler, RobustScaler, StandardScaler, QuantileTransformer\n",
    "from scipy import stats\n",
    "\n",
    "# import modeling methods\n",
    "from sklearn.metrics import mean_squared_error\n",
    "from sklearn.linear_model import LinearRegression, LassoLars, TweedieRegressor\n",
    "from sklearn.preprocessing import PolynomialFeatures\n",
    "from sklearn.metrics import explained_variance_score\n",
    "\n",
    "import wrangle as w\n",
    "import mitosheet\n",
    "import folium\n",
    "from folium.plugins import FastMarkerCluster"
   ]
  },
  {
   "cell_type": "code",
   "execution_count": 2,
   "id": "c10ce1e5-e7b2-4ee7-b1ad-e5f4eb08de78",
   "metadata": {},
   "outputs": [
    {
     "name": "stdout",
     "output_type": "stream",
     "text": [
      "Using cached CSV\n",
      "The following 34 columns were dropped because they were missing more than 50.0% of data: \n",
      "['airconditioningtypeid', 'architecturalstyletypeid', 'basementsqft', 'buildingclasstypeid', 'decktypeid', 'finishedfloor1squarefeet', 'finishedsquarefeet13', 'finishedsquarefeet15', 'finishedsquarefeet50', 'finishedsquarefeet6', 'fireplacecnt', 'garagecarcnt', 'garagetotalsqft', 'hashottuborspa', 'poolcnt', 'poolsizesum', 'pooltypeid10', 'pooltypeid2', 'pooltypeid7', 'regionidneighborhood', 'storytypeid', 'threequarterbathnbr', 'typeconstructiontypeid', 'yardbuildingsqft17', 'yardbuildingsqft26', 'numberofstories', 'fireplaceflag', 'taxdelinquencyflag', 'taxdelinquencyyear', 'airconditioningdesc', 'architecturalstyledesc', 'buildingclassdesc', 'storydesc', 'typeconstructiondesc']\n",
      "\n",
      "0 rows were dropped because they were missing more than 50.0% of data\n",
      "Yearbuilt converted to age. \n",
      "\n"
     ]
    }
   ],
   "source": [
    "train, validate, test, X_train, y_train, X_validate, y_validate, X_test, y_test = w.wrangle_zillow('logerror')"
   ]
  },
  {
   "cell_type": "code",
   "execution_count": 3,
   "id": "2a62d51a-b450-45b4-9a74-4dd1fe084799",
   "metadata": {},
   "outputs": [
    {
     "data": {
      "text/plain": [
       "Index(['bathroomcnt', 'bedroomcnt', 'calculatedfinishedsquarefeet', 'latitude',\n",
       "       'longitude', 'lotsizesquarefeet', 'propertycountylandusecode',\n",
       "       'regionidcity', 'regionidzip', 'structuretaxvaluedollarcnt',\n",
       "       'taxvaluedollarcnt', 'landtaxvaluedollarcnt', 'taxamount',\n",
       "       'censustractandblock', 'age', 'taxrate', 'structure_cost_per_sqft',\n",
       "       'land_cost_per_sqft', 'fiscal_quarter', 'los_angeles', 'orange'],\n",
       "      dtype='object')"
      ]
     },
     "execution_count": 3,
     "metadata": {},
     "output_type": "execute_result"
    }
   ],
   "source": [
    "X_train.columns"
   ]
  },
  {
   "cell_type": "code",
   "execution_count": 6,
   "id": "89154496-21da-4e41-9beb-6d19a98bb2cd",
   "metadata": {},
   "outputs": [],
   "source": [
    "def scale_data(X_train, X_validate, X_test, return_scaler=False):\n",
    "    '''\n",
    "    Scales the 3 data splits.\n",
    "    \n",
    "    takes in the train, validate, and test data splits and returns their scaled counterparts.\n",
    "    \n",
    "    If return_scaler is true, the scaler object will be returned as well.\n",
    "    \n",
    "    Target is not scaled.\n",
    "    \n",
    "    columns_to_scale was originally used to check whether los_angeles and orange would cause trouble\n",
    "    '''\n",
    "    columns_to_scale = ['bathroomcnt', 'bedroomcnt', 'calculatedfinishedsquarefeet',\n",
    "       'latitude', 'longitude', 'lotsizesquarefeet',\n",
    "       'propertycountylandusecode', 'regionidcity', 'regionidzip',\n",
    "       'structuretaxvaluedollarcnt', 'taxvaluedollarcnt',\n",
    "       'landtaxvaluedollarcnt', 'taxamount', 'censustractandblock', 'age',\n",
    "       'taxrate', 'structure_cost_per_sqft', 'land_cost_per_sqft',\n",
    "       'fiscal_quarter', 'los_angeles', 'orange']\n",
    "    \n",
    "    X_train_scaled = X_train.copy()\n",
    "    X_validate_scaled = X_validate.copy()\n",
    "    X_test_scaled = X_test.copy()\n",
    "    \n",
    "    scaler = StandardScaler()\n",
    "    scaler.fit(X_train_scaled[columns_to_scale])\n",
    "    \n",
    "    X_train_scaled[columns_to_scale] = scaler.transform(X_train[columns_to_scale])\n",
    "    X_validate_scaled[columns_to_scale] = scaler.transform(X_validate[columns_to_scale])\n",
    "    X_test_scaled[columns_to_scale] = scaler.transform(X_test[columns_to_scale])\n",
    "    \n",
    "    if return_scaler:\n",
    "        return scaler, X_train_scaled, X_validate_scaled, X_test_scaled\n",
    "    else:\n",
    "        return X_train_scaled, X_validate_scaled, X_test_scaled"
   ]
  },
  {
   "cell_type": "code",
   "execution_count": 7,
   "id": "c1ba8188-640b-41cc-869c-cd807c24b764",
   "metadata": {},
   "outputs": [],
   "source": [
    "X_train_scaled, X_validate_scaled, X_test_scaled = scale_data(X_train, X_validate, X_test)"
   ]
  },
  {
   "cell_type": "code",
   "execution_count": null,
   "id": "36cd1295-ed71-41f3-bde7-6629bf1bd93b",
   "metadata": {},
   "outputs": [],
   "source": [
    "X_train_scaled"
   ]
  },
  {
   "cell_type": "markdown",
   "id": "19a008bb-416b-4477-8b8f-d95f4fded9d2",
   "metadata": {},
   "source": [
    "# Perform Dimensionality Reduction with Principal Components Analysis"
   ]
  }
 ],
 "metadata": {
  "kernelspec": {
   "display_name": "Python 3 (ipykernel)",
   "language": "python",
   "name": "python3"
  },
  "language_info": {
   "codemirror_mode": {
    "name": "ipython",
    "version": 3
   },
   "file_extension": ".py",
   "mimetype": "text/x-python",
   "name": "python",
   "nbconvert_exporter": "python",
   "pygments_lexer": "ipython3",
   "version": "3.9.7"
  }
 },
 "nbformat": 4,
 "nbformat_minor": 5
}
